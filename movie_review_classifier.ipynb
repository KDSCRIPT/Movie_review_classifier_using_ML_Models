{
  "cells": [
    {
      "cell_type": "markdown",
      "id": "3dbb5d14",
      "metadata": {
        "id": "3dbb5d14",
        "papermill": {
          "duration": 0.023591,
          "end_time": "2023-08-13T16:09:54.049585",
          "exception": false,
          "start_time": "2023-08-13T16:09:54.025994",
          "status": "completed"
        },
        "tags": []
      },
      "source": [
        "#Preprocessing data in the form of CSV files and performing classification of movie reviews as Positive and Negative reviews based on sentiment analysis and trying various different ML models and comapring performance metrics."
      ]
    },
    {
      "cell_type": "code",
      "execution_count": 1,
      "id": "8e04e63e",
      "metadata": {
        "execution": {
          "iopub.execute_input": "2023-08-13T16:09:54.097816Z",
          "iopub.status.busy": "2023-08-13T16:09:54.097394Z",
          "iopub.status.idle": "2023-08-13T16:09:54.112975Z",
          "shell.execute_reply": "2023-08-13T16:09:54.111174Z"
        },
        "papermill": {
          "duration": 0.042954,
          "end_time": "2023-08-13T16:09:54.115761",
          "exception": false,
          "start_time": "2023-08-13T16:09:54.072807",
          "status": "completed"
        },
        "tags": [],
        "id": "8e04e63e",
        "outputId": "3308c0eb-fee0-4006-9208-22930cb2ef25",
        "colab": {
          "base_uri": "https://localhost:8080/"
        }
      },
      "outputs": [
        {
          "output_type": "stream",
          "name": "stdout",
          "text": [
            "Drive already mounted at /content/drive; to attempt to forcibly remount, call drive.mount(\"/content/drive\", force_remount=True).\n"
          ]
        }
      ],
      "source": [
        "from google.colab import drive\n",
        "drive.mount('/content/drive')"
      ]
    },
    {
      "cell_type": "markdown",
      "id": "7950dbfb",
      "metadata": {
        "id": "7950dbfb",
        "papermill": {
          "duration": 0.023755,
          "end_time": "2023-08-13T16:09:54.163598",
          "exception": false,
          "start_time": "2023-08-13T16:09:54.139843",
          "status": "completed"
        },
        "tags": []
      },
      "source": [
        "#In data processing we need to process the data by doing the following\n",
        "1.We need first drop NULL rows from the train.csv by using dropna with the subset of movieid,reviewText and reviewerName.\n",
        "\n",
        "2.Then we needed to remove duplicate values where no two movies can have same movieid.\n",
        "\n",
        "3.In movie.csv we only care whether movieid is null or not so we drop only rows which have null movieid.\n",
        "\n",
        "4.On movieid we join train.csv and movie.csv and joining them on the movieid column.\n",
        "\n",
        "5.similarly process the test data by removing null values and removing duplicate values"
      ]
    },
    {
      "cell_type": "code",
      "execution_count": 2,
      "id": "6c38e1ab",
      "metadata": {
        "execution": {
          "iopub.execute_input": "2023-08-13T16:09:54.212734Z",
          "iopub.status.busy": "2023-08-13T16:09:54.211982Z",
          "iopub.status.idle": "2023-08-13T16:09:56.702488Z",
          "shell.execute_reply": "2023-08-13T16:09:56.701333Z"
        },
        "id": "6c38e1ab",
        "papermill": {
          "duration": 2.518195,
          "end_time": "2023-08-13T16:09:56.705303",
          "exception": false,
          "start_time": "2023-08-13T16:09:54.187108",
          "status": "completed"
        },
        "tags": [],
        "colab": {
          "base_uri": "https://localhost:8080/"
        },
        "outputId": "6ac7ea0d-def6-4b15-f2c2-99a8c13853e5"
      },
      "outputs": [
        {
          "output_type": "stream",
          "name": "stdout",
          "text": [
            "First 5 elements of the dataset:\n",
            "\n",
            "                                                text  label\n",
            "0  I grew up (b. 1965) watching and loving the Th...      0\n",
            "1  When I put this movie in my DVD player, and sa...      0\n",
            "2  Why do people who do not know what a particula...      0\n",
            "3  Even though I have great interest in Biblical ...      0\n",
            "4  Im a die hard Dads Army fan and nothing will e...      1\n",
            "\n",
            "\n",
            "\n",
            "Number of reviews: 40000\n",
            "\n",
            "\n",
            "\n",
            "Number of positive and negative sentiment reviews:\n",
            " 0    20019\n",
            "1    19981\n",
            "Name: label, dtype: int64\n",
            "Check if there are any NaN values:\n",
            "\n",
            "text     0\n",
            "label    0\n",
            "dtype: int64\n"
          ]
        }
      ],
      "source": [
        "# reading two csv files\n",
        "import pandas as pd\n",
        "train_df=pd.read_csv('/content/drive/MyDrive/movie.csv')\n",
        "print(\"First 5 elements of the dataset:\\n\")\n",
        "print(train_df.head())\n",
        "print(\"\\n\\n\")\n",
        "#It is given 0 is negative and 1 is positive sentiment\n",
        "print(\"Number of reviews:\",len(train_df))\n",
        "print(\"\\n\\n\")\n",
        "print(\"Number of positive and negative sentiment reviews:\\n\",train_df[\"label\"].value_counts())\n",
        "#check whether there are any missing values\n",
        "print(\"Check if there are any NaN values:\\n\")\n",
        "print(train_df.isna().sum())#No NaN values hence we shall proceed"
      ]
    },
    {
      "cell_type": "markdown",
      "id": "012f02cd",
      "metadata": {
        "id": "012f02cd",
        "papermill": {
          "duration": 0.023505,
          "end_time": "2023-08-13T16:09:58.350153",
          "exception": false,
          "start_time": "2023-08-13T16:09:58.326648",
          "status": "completed"
        },
        "tags": []
      },
      "source": [
        "#For more randomised training data we will shuffle the training data so that the model does not get biased based on training data order."
      ]
    },
    {
      "cell_type": "code",
      "execution_count": 3,
      "id": "97cb5c94",
      "metadata": {
        "execution": {
          "iopub.execute_input": "2023-08-13T16:09:58.400219Z",
          "iopub.status.busy": "2023-08-13T16:09:58.398899Z",
          "iopub.status.idle": "2023-08-13T16:09:58.419364Z",
          "shell.execute_reply": "2023-08-13T16:09:58.418157Z"
        },
        "id": "97cb5c94",
        "papermill": {
          "duration": 0.048181,
          "end_time": "2023-08-13T16:09:58.421969",
          "exception": false,
          "start_time": "2023-08-13T16:09:58.373788",
          "status": "completed"
        },
        "tags": []
      },
      "outputs": [],
      "source": [
        "train_df_shuffled=train_df.sample(frac=1,random_state=42)"
      ]
    },
    {
      "cell_type": "code",
      "execution_count": 4,
      "id": "feffc4d8",
      "metadata": {
        "execution": {
          "iopub.execute_input": "2023-08-13T16:09:58.471217Z",
          "iopub.status.busy": "2023-08-13T16:09:58.470662Z",
          "iopub.status.idle": "2023-08-13T16:09:58.509860Z",
          "shell.execute_reply": "2023-08-13T16:09:58.508611Z"
        },
        "id": "feffc4d8",
        "outputId": "53bd6230-935f-4811-81a1-3b30ec8d7500",
        "papermill": {
          "duration": 0.067229,
          "end_time": "2023-08-13T16:09:58.512803",
          "exception": false,
          "start_time": "2023-08-13T16:09:58.445574",
          "status": "completed"
        },
        "tags": [],
        "colab": {
          "base_uri": "https://localhost:8080/",
          "height": 206
        }
      },
      "outputs": [
        {
          "output_type": "execute_result",
          "data": {
            "text/plain": [
              "                                                    text  label\n",
              "32823  The central theme in this movie seems to be co...      0\n",
              "16298  An excellent example of \"cowboy noir\", as it's...      1\n",
              "28505  The ending made my heart jump up into my throa...      0\n",
              "6689   Only the chosen ones will appreciate the quali...      1\n",
              "26893  This is a really funny film, especially the se...      1"
            ],
            "text/html": [
              "\n",
              "\n",
              "  <div id=\"df-a8ad966d-d2c2-47db-b45d-b8af3e9a342b\">\n",
              "    <div class=\"colab-df-container\">\n",
              "      <div>\n",
              "<style scoped>\n",
              "    .dataframe tbody tr th:only-of-type {\n",
              "        vertical-align: middle;\n",
              "    }\n",
              "\n",
              "    .dataframe tbody tr th {\n",
              "        vertical-align: top;\n",
              "    }\n",
              "\n",
              "    .dataframe thead th {\n",
              "        text-align: right;\n",
              "    }\n",
              "</style>\n",
              "<table border=\"1\" class=\"dataframe\">\n",
              "  <thead>\n",
              "    <tr style=\"text-align: right;\">\n",
              "      <th></th>\n",
              "      <th>text</th>\n",
              "      <th>label</th>\n",
              "    </tr>\n",
              "  </thead>\n",
              "  <tbody>\n",
              "    <tr>\n",
              "      <th>32823</th>\n",
              "      <td>The central theme in this movie seems to be co...</td>\n",
              "      <td>0</td>\n",
              "    </tr>\n",
              "    <tr>\n",
              "      <th>16298</th>\n",
              "      <td>An excellent example of \"cowboy noir\", as it's...</td>\n",
              "      <td>1</td>\n",
              "    </tr>\n",
              "    <tr>\n",
              "      <th>28505</th>\n",
              "      <td>The ending made my heart jump up into my throa...</td>\n",
              "      <td>0</td>\n",
              "    </tr>\n",
              "    <tr>\n",
              "      <th>6689</th>\n",
              "      <td>Only the chosen ones will appreciate the quali...</td>\n",
              "      <td>1</td>\n",
              "    </tr>\n",
              "    <tr>\n",
              "      <th>26893</th>\n",
              "      <td>This is a really funny film, especially the se...</td>\n",
              "      <td>1</td>\n",
              "    </tr>\n",
              "  </tbody>\n",
              "</table>\n",
              "</div>\n",
              "      <button class=\"colab-df-convert\" onclick=\"convertToInteractive('df-a8ad966d-d2c2-47db-b45d-b8af3e9a342b')\"\n",
              "              title=\"Convert this dataframe to an interactive table.\"\n",
              "              style=\"display:none;\">\n",
              "\n",
              "  <svg xmlns=\"http://www.w3.org/2000/svg\" height=\"24px\"viewBox=\"0 0 24 24\"\n",
              "       width=\"24px\">\n",
              "    <path d=\"M0 0h24v24H0V0z\" fill=\"none\"/>\n",
              "    <path d=\"M18.56 5.44l.94 2.06.94-2.06 2.06-.94-2.06-.94-.94-2.06-.94 2.06-2.06.94zm-11 1L8.5 8.5l.94-2.06 2.06-.94-2.06-.94L8.5 2.5l-.94 2.06-2.06.94zm10 10l.94 2.06.94-2.06 2.06-.94-2.06-.94-.94-2.06-.94 2.06-2.06.94z\"/><path d=\"M17.41 7.96l-1.37-1.37c-.4-.4-.92-.59-1.43-.59-.52 0-1.04.2-1.43.59L10.3 9.45l-7.72 7.72c-.78.78-.78 2.05 0 2.83L4 21.41c.39.39.9.59 1.41.59.51 0 1.02-.2 1.41-.59l7.78-7.78 2.81-2.81c.8-.78.8-2.07 0-2.86zM5.41 20L4 18.59l7.72-7.72 1.47 1.35L5.41 20z\"/>\n",
              "  </svg>\n",
              "      </button>\n",
              "\n",
              "\n",
              "\n",
              "    <div id=\"df-cfa9e607-72ec-44dc-a5a2-95a1504d3b19\">\n",
              "      <button class=\"colab-df-quickchart\" onclick=\"quickchart('df-cfa9e607-72ec-44dc-a5a2-95a1504d3b19')\"\n",
              "              title=\"Suggest charts.\"\n",
              "              style=\"display:none;\">\n",
              "\n",
              "<svg xmlns=\"http://www.w3.org/2000/svg\" height=\"24px\"viewBox=\"0 0 24 24\"\n",
              "     width=\"24px\">\n",
              "    <g>\n",
              "        <path d=\"M19 3H5c-1.1 0-2 .9-2 2v14c0 1.1.9 2 2 2h14c1.1 0 2-.9 2-2V5c0-1.1-.9-2-2-2zM9 17H7v-7h2v7zm4 0h-2V7h2v10zm4 0h-2v-4h2v4z\"/>\n",
              "    </g>\n",
              "</svg>\n",
              "      </button>\n",
              "    </div>\n",
              "\n",
              "<style>\n",
              "  .colab-df-quickchart {\n",
              "    background-color: #E8F0FE;\n",
              "    border: none;\n",
              "    border-radius: 50%;\n",
              "    cursor: pointer;\n",
              "    display: none;\n",
              "    fill: #1967D2;\n",
              "    height: 32px;\n",
              "    padding: 0 0 0 0;\n",
              "    width: 32px;\n",
              "  }\n",
              "\n",
              "  .colab-df-quickchart:hover {\n",
              "    background-color: #E2EBFA;\n",
              "    box-shadow: 0px 1px 2px rgba(60, 64, 67, 0.3), 0px 1px 3px 1px rgba(60, 64, 67, 0.15);\n",
              "    fill: #174EA6;\n",
              "  }\n",
              "\n",
              "  [theme=dark] .colab-df-quickchart {\n",
              "    background-color: #3B4455;\n",
              "    fill: #D2E3FC;\n",
              "  }\n",
              "\n",
              "  [theme=dark] .colab-df-quickchart:hover {\n",
              "    background-color: #434B5C;\n",
              "    box-shadow: 0px 1px 3px 1px rgba(0, 0, 0, 0.15);\n",
              "    filter: drop-shadow(0px 1px 2px rgba(0, 0, 0, 0.3));\n",
              "    fill: #FFFFFF;\n",
              "  }\n",
              "</style>\n",
              "\n",
              "    <script>\n",
              "      async function quickchart(key) {\n",
              "        const containerElement = document.querySelector('#' + key);\n",
              "        const charts = await google.colab.kernel.invokeFunction(\n",
              "            'suggestCharts', [key], {});\n",
              "      }\n",
              "    </script>\n",
              "\n",
              "      <script>\n",
              "\n",
              "function displayQuickchartButton(domScope) {\n",
              "  let quickchartButtonEl =\n",
              "    domScope.querySelector('#df-cfa9e607-72ec-44dc-a5a2-95a1504d3b19 button.colab-df-quickchart');\n",
              "  quickchartButtonEl.style.display =\n",
              "    google.colab.kernel.accessAllowed ? 'block' : 'none';\n",
              "}\n",
              "\n",
              "        displayQuickchartButton(document);\n",
              "      </script>\n",
              "      <style>\n",
              "    .colab-df-container {\n",
              "      display:flex;\n",
              "      flex-wrap:wrap;\n",
              "      gap: 12px;\n",
              "    }\n",
              "\n",
              "    .colab-df-convert {\n",
              "      background-color: #E8F0FE;\n",
              "      border: none;\n",
              "      border-radius: 50%;\n",
              "      cursor: pointer;\n",
              "      display: none;\n",
              "      fill: #1967D2;\n",
              "      height: 32px;\n",
              "      padding: 0 0 0 0;\n",
              "      width: 32px;\n",
              "    }\n",
              "\n",
              "    .colab-df-convert:hover {\n",
              "      background-color: #E2EBFA;\n",
              "      box-shadow: 0px 1px 2px rgba(60, 64, 67, 0.3), 0px 1px 3px 1px rgba(60, 64, 67, 0.15);\n",
              "      fill: #174EA6;\n",
              "    }\n",
              "\n",
              "    [theme=dark] .colab-df-convert {\n",
              "      background-color: #3B4455;\n",
              "      fill: #D2E3FC;\n",
              "    }\n",
              "\n",
              "    [theme=dark] .colab-df-convert:hover {\n",
              "      background-color: #434B5C;\n",
              "      box-shadow: 0px 1px 3px 1px rgba(0, 0, 0, 0.15);\n",
              "      filter: drop-shadow(0px 1px 2px rgba(0, 0, 0, 0.3));\n",
              "      fill: #FFFFFF;\n",
              "    }\n",
              "  </style>\n",
              "\n",
              "      <script>\n",
              "        const buttonEl =\n",
              "          document.querySelector('#df-a8ad966d-d2c2-47db-b45d-b8af3e9a342b button.colab-df-convert');\n",
              "        buttonEl.style.display =\n",
              "          google.colab.kernel.accessAllowed ? 'block' : 'none';\n",
              "\n",
              "        async function convertToInteractive(key) {\n",
              "          const element = document.querySelector('#df-a8ad966d-d2c2-47db-b45d-b8af3e9a342b');\n",
              "          const dataTable =\n",
              "            await google.colab.kernel.invokeFunction('convertToInteractive',\n",
              "                                                     [key], {});\n",
              "          if (!dataTable) return;\n",
              "\n",
              "          const docLinkHtml = 'Like what you see? Visit the ' +\n",
              "            '<a target=\"_blank\" href=https://colab.research.google.com/notebooks/data_table.ipynb>data table notebook</a>'\n",
              "            + ' to learn more about interactive tables.';\n",
              "          element.innerHTML = '';\n",
              "          dataTable['output_type'] = 'display_data';\n",
              "          await google.colab.output.renderOutput(dataTable, element);\n",
              "          const docLink = document.createElement('div');\n",
              "          docLink.innerHTML = docLinkHtml;\n",
              "          element.appendChild(docLink);\n",
              "        }\n",
              "      </script>\n",
              "    </div>\n",
              "  </div>\n"
            ]
          },
          "metadata": {},
          "execution_count": 4
        }
      ],
      "source": [
        "#train dataset\n",
        "train_df_shuffled.head()"
      ]
    },
    {
      "cell_type": "code",
      "execution_count": 5,
      "id": "5fb16ce5",
      "metadata": {
        "execution": {
          "iopub.execute_input": "2023-08-13T16:09:58.749953Z",
          "iopub.status.busy": "2023-08-13T16:09:58.749517Z",
          "iopub.status.idle": "2023-08-13T16:09:58.760333Z",
          "shell.execute_reply": "2023-08-13T16:09:58.759291Z"
        },
        "id": "5fb16ce5",
        "outputId": "185a59f5-8292-4dab-ba18-0191939d6107",
        "papermill": {
          "duration": 0.039077,
          "end_time": "2023-08-13T16:09:58.762658",
          "exception": false,
          "start_time": "2023-08-13T16:09:58.723581",
          "status": "completed"
        },
        "tags": [],
        "colab": {
          "base_uri": "https://localhost:8080/"
        }
      },
      "outputs": [
        {
          "output_type": "execute_result",
          "data": {
            "text/plain": [
              "0    20019\n",
              "1    19981\n",
              "Name: label, dtype: int64"
            ]
          },
          "metadata": {},
          "execution_count": 5
        }
      ],
      "source": [
        "#number of examples in each class\n",
        "train_df_shuffled.label.value_counts()"
      ]
    },
    {
      "cell_type": "markdown",
      "id": "e6c68f2a",
      "metadata": {
        "id": "e6c68f2a",
        "papermill": {
          "duration": 0.024385,
          "end_time": "2023-08-13T16:09:58.872119",
          "exception": false,
          "start_time": "2023-08-13T16:09:58.847734",
          "status": "completed"
        },
        "tags": []
      },
      "source": [
        "#Using our good friend train_test_split we split the training dataset into testing and validating dataset and we will have validation data size as 10 percent of the training data"
      ]
    },
    {
      "cell_type": "code",
      "execution_count": 6,
      "id": "5f7bd304",
      "metadata": {
        "execution": {
          "iopub.execute_input": "2023-08-13T16:09:58.923340Z",
          "iopub.status.busy": "2023-08-13T16:09:58.922962Z",
          "iopub.status.idle": "2023-08-13T16:10:00.485799Z",
          "shell.execute_reply": "2023-08-13T16:10:00.484604Z"
        },
        "id": "5f7bd304",
        "papermill": {
          "duration": 1.591983,
          "end_time": "2023-08-13T16:10:00.488846",
          "exception": false,
          "start_time": "2023-08-13T16:09:58.896863",
          "status": "completed"
        },
        "tags": []
      },
      "outputs": [],
      "source": [
        "#split data into training and validation datasets\n",
        "from sklearn.model_selection import train_test_split\n",
        "train_sentences,val_sentences,train_labels,val_labels=train_test_split(train_df_shuffled[\"text\"].to_numpy(),\n",
        "                                                                       train_df_shuffled[\"label\"].to_numpy(),\n",
        "                                                                       test_size=0.1,\n",
        "                                                                       random_state=42)"
      ]
    },
    {
      "cell_type": "code",
      "execution_count": 7,
      "id": "96af7e47",
      "metadata": {
        "execution": {
          "iopub.execute_input": "2023-08-13T16:10:00.541332Z",
          "iopub.status.busy": "2023-08-13T16:10:00.540901Z",
          "iopub.status.idle": "2023-08-13T16:10:00.548646Z",
          "shell.execute_reply": "2023-08-13T16:10:00.547533Z"
        },
        "id": "96af7e47",
        "outputId": "f74c73de-a45e-4c05-a836-1df2f4e4c969",
        "papermill": {
          "duration": 0.037604,
          "end_time": "2023-08-13T16:10:00.551253",
          "exception": false,
          "start_time": "2023-08-13T16:10:00.513649",
          "status": "completed"
        },
        "tags": [],
        "colab": {
          "base_uri": "https://localhost:8080/"
        }
      },
      "outputs": [
        {
          "output_type": "execute_result",
          "data": {
            "text/plain": [
              "(36000, 4000, 36000, 4000)"
            ]
          },
          "metadata": {},
          "execution_count": 7
        }
      ],
      "source": [
        "#check the lengths\n",
        "len(train_sentences),len(val_sentences),len(train_labels),len(val_labels)"
      ]
    },
    {
      "cell_type": "markdown",
      "id": "f2d6b435",
      "metadata": {
        "id": "f2d6b435",
        "papermill": {
          "duration": 0.024464,
          "end_time": "2023-08-13T16:10:00.600744",
          "exception": false,
          "start_time": "2023-08-13T16:10:00.576280",
          "status": "completed"
        },
        "tags": []
      },
      "source": [
        "#We tokenize for convert the text to numbers using the CountVectorizer which returns a sparse matrix and also use the tfid Transformer from the feature extraction library to get a effective representation of textual reviews to numbers for our ML model to learn on"
      ]
    },
    {
      "cell_type": "code",
      "execution_count": 8,
      "id": "ac20f5d9",
      "metadata": {
        "execution": {
          "iopub.execute_input": "2023-08-13T16:10:00.652291Z",
          "iopub.status.busy": "2023-08-13T16:10:00.651836Z",
          "iopub.status.idle": "2023-08-13T16:10:01.183410Z",
          "shell.execute_reply": "2023-08-13T16:10:01.182413Z"
        },
        "id": "ac20f5d9",
        "papermill": {
          "duration": 0.560313,
          "end_time": "2023-08-13T16:10:01.185984",
          "exception": false,
          "start_time": "2023-08-13T16:10:00.625671",
          "status": "completed"
        },
        "tags": []
      },
      "outputs": [],
      "source": [
        "from sklearn.feature_extraction.text import CountVectorizer\n",
        "count_vect=CountVectorizer()\n",
        "train_vectorized=count_vect.fit_transform(train_sentences)"
      ]
    },
    {
      "cell_type": "code",
      "execution_count": 9,
      "id": "5e446f7b",
      "metadata": {
        "execution": {
          "iopub.execute_input": "2023-08-13T16:10:01.238118Z",
          "iopub.status.busy": "2023-08-13T16:10:01.237681Z",
          "iopub.status.idle": "2023-08-13T16:10:01.258557Z",
          "shell.execute_reply": "2023-08-13T16:10:01.257403Z"
        },
        "id": "5e446f7b",
        "papermill": {
          "duration": 0.050311,
          "end_time": "2023-08-13T16:10:01.261639",
          "exception": false,
          "start_time": "2023-08-13T16:10:01.211328",
          "status": "completed"
        },
        "tags": []
      },
      "outputs": [],
      "source": [
        "from sklearn.feature_extraction.text import TfidfTransformer\n",
        "tf_transformer=TfidfTransformer(use_idf=False).fit(train_vectorized)\n",
        "train_tf=tf_transformer.transform(train_vectorized)"
      ]
    },
    {
      "cell_type": "markdown",
      "id": "2eb6d164",
      "metadata": {
        "id": "2eb6d164",
        "papermill": {
          "duration": 0.024347,
          "end_time": "2023-08-13T16:10:01.310761",
          "exception": false,
          "start_time": "2023-08-13T16:10:01.286414",
          "status": "completed"
        },
        "tags": []
      },
      "source": [
        "#The first model we will use for classifying the movie reviews is the classic naive bayes classifier which is normally a good starting point for classification problems"
      ]
    },
    {
      "cell_type": "code",
      "execution_count": 10,
      "id": "0a22c9fd",
      "metadata": {
        "execution": {
          "iopub.execute_input": "2023-08-13T16:10:01.362948Z",
          "iopub.status.busy": "2023-08-13T16:10:01.362321Z",
          "iopub.status.idle": "2023-08-13T16:10:02.616251Z",
          "shell.execute_reply": "2023-08-13T16:10:02.614798Z"
        },
        "papermill": {
          "duration": 1.28437,
          "end_time": "2023-08-13T16:10:02.620167",
          "exception": false,
          "start_time": "2023-08-13T16:10:01.335797",
          "status": "completed"
        },
        "tags": [],
        "id": "0a22c9fd",
        "outputId": "0cae8fdf-d9c7-4fc2-d6f5-0fb57e26bc67",
        "colab": {
          "base_uri": "https://localhost:8080/",
          "height": 159
        }
      },
      "outputs": [
        {
          "output_type": "execute_result",
          "data": {
            "text/plain": [
              "Pipeline(steps=[('vect', CountVectorizer()), ('tfisf', TfidfTransformer()),\n",
              "                ('clf', MultinomialNB())])"
            ],
            "text/html": [
              "<style>#sk-container-id-1 {color: black;background-color: white;}#sk-container-id-1 pre{padding: 0;}#sk-container-id-1 div.sk-toggleable {background-color: white;}#sk-container-id-1 label.sk-toggleable__label {cursor: pointer;display: block;width: 100%;margin-bottom: 0;padding: 0.3em;box-sizing: border-box;text-align: center;}#sk-container-id-1 label.sk-toggleable__label-arrow:before {content: \"▸\";float: left;margin-right: 0.25em;color: #696969;}#sk-container-id-1 label.sk-toggleable__label-arrow:hover:before {color: black;}#sk-container-id-1 div.sk-estimator:hover label.sk-toggleable__label-arrow:before {color: black;}#sk-container-id-1 div.sk-toggleable__content {max-height: 0;max-width: 0;overflow: hidden;text-align: left;background-color: #f0f8ff;}#sk-container-id-1 div.sk-toggleable__content pre {margin: 0.2em;color: black;border-radius: 0.25em;background-color: #f0f8ff;}#sk-container-id-1 input.sk-toggleable__control:checked~div.sk-toggleable__content {max-height: 200px;max-width: 100%;overflow: auto;}#sk-container-id-1 input.sk-toggleable__control:checked~label.sk-toggleable__label-arrow:before {content: \"▾\";}#sk-container-id-1 div.sk-estimator input.sk-toggleable__control:checked~label.sk-toggleable__label {background-color: #d4ebff;}#sk-container-id-1 div.sk-label input.sk-toggleable__control:checked~label.sk-toggleable__label {background-color: #d4ebff;}#sk-container-id-1 input.sk-hidden--visually {border: 0;clip: rect(1px 1px 1px 1px);clip: rect(1px, 1px, 1px, 1px);height: 1px;margin: -1px;overflow: hidden;padding: 0;position: absolute;width: 1px;}#sk-container-id-1 div.sk-estimator {font-family: monospace;background-color: #f0f8ff;border: 1px dotted black;border-radius: 0.25em;box-sizing: border-box;margin-bottom: 0.5em;}#sk-container-id-1 div.sk-estimator:hover {background-color: #d4ebff;}#sk-container-id-1 div.sk-parallel-item::after {content: \"\";width: 100%;border-bottom: 1px solid gray;flex-grow: 1;}#sk-container-id-1 div.sk-label:hover label.sk-toggleable__label {background-color: #d4ebff;}#sk-container-id-1 div.sk-serial::before {content: \"\";position: absolute;border-left: 1px solid gray;box-sizing: border-box;top: 0;bottom: 0;left: 50%;z-index: 0;}#sk-container-id-1 div.sk-serial {display: flex;flex-direction: column;align-items: center;background-color: white;padding-right: 0.2em;padding-left: 0.2em;position: relative;}#sk-container-id-1 div.sk-item {position: relative;z-index: 1;}#sk-container-id-1 div.sk-parallel {display: flex;align-items: stretch;justify-content: center;background-color: white;position: relative;}#sk-container-id-1 div.sk-item::before, #sk-container-id-1 div.sk-parallel-item::before {content: \"\";position: absolute;border-left: 1px solid gray;box-sizing: border-box;top: 0;bottom: 0;left: 50%;z-index: -1;}#sk-container-id-1 div.sk-parallel-item {display: flex;flex-direction: column;z-index: 1;position: relative;background-color: white;}#sk-container-id-1 div.sk-parallel-item:first-child::after {align-self: flex-end;width: 50%;}#sk-container-id-1 div.sk-parallel-item:last-child::after {align-self: flex-start;width: 50%;}#sk-container-id-1 div.sk-parallel-item:only-child::after {width: 0;}#sk-container-id-1 div.sk-dashed-wrapped {border: 1px dashed gray;margin: 0 0.4em 0.5em 0.4em;box-sizing: border-box;padding-bottom: 0.4em;background-color: white;}#sk-container-id-1 div.sk-label label {font-family: monospace;font-weight: bold;display: inline-block;line-height: 1.2em;}#sk-container-id-1 div.sk-label-container {text-align: center;}#sk-container-id-1 div.sk-container {/* jupyter's `normalize.less` sets `[hidden] { display: none; }` but bootstrap.min.css set `[hidden] { display: none !important; }` so we also need the `!important` here to be able to override the default hidden behavior on the sphinx rendered scikit-learn.org. See: https://github.com/scikit-learn/scikit-learn/issues/21755 */display: inline-block !important;position: relative;}#sk-container-id-1 div.sk-text-repr-fallback {display: none;}</style><div id=\"sk-container-id-1\" class=\"sk-top-container\"><div class=\"sk-text-repr-fallback\"><pre>Pipeline(steps=[(&#x27;vect&#x27;, CountVectorizer()), (&#x27;tfisf&#x27;, TfidfTransformer()),\n",
              "                (&#x27;clf&#x27;, MultinomialNB())])</pre><b>In a Jupyter environment, please rerun this cell to show the HTML representation or trust the notebook. <br />On GitHub, the HTML representation is unable to render, please try loading this page with nbviewer.org.</b></div><div class=\"sk-container\" hidden><div class=\"sk-item sk-dashed-wrapped\"><div class=\"sk-label-container\"><div class=\"sk-label sk-toggleable\"><input class=\"sk-toggleable__control sk-hidden--visually\" id=\"sk-estimator-id-1\" type=\"checkbox\" ><label for=\"sk-estimator-id-1\" class=\"sk-toggleable__label sk-toggleable__label-arrow\">Pipeline</label><div class=\"sk-toggleable__content\"><pre>Pipeline(steps=[(&#x27;vect&#x27;, CountVectorizer()), (&#x27;tfisf&#x27;, TfidfTransformer()),\n",
              "                (&#x27;clf&#x27;, MultinomialNB())])</pre></div></div></div><div class=\"sk-serial\"><div class=\"sk-item\"><div class=\"sk-estimator sk-toggleable\"><input class=\"sk-toggleable__control sk-hidden--visually\" id=\"sk-estimator-id-2\" type=\"checkbox\" ><label for=\"sk-estimator-id-2\" class=\"sk-toggleable__label sk-toggleable__label-arrow\">CountVectorizer</label><div class=\"sk-toggleable__content\"><pre>CountVectorizer()</pre></div></div></div><div class=\"sk-item\"><div class=\"sk-estimator sk-toggleable\"><input class=\"sk-toggleable__control sk-hidden--visually\" id=\"sk-estimator-id-3\" type=\"checkbox\" ><label for=\"sk-estimator-id-3\" class=\"sk-toggleable__label sk-toggleable__label-arrow\">TfidfTransformer</label><div class=\"sk-toggleable__content\"><pre>TfidfTransformer()</pre></div></div></div><div class=\"sk-item\"><div class=\"sk-estimator sk-toggleable\"><input class=\"sk-toggleable__control sk-hidden--visually\" id=\"sk-estimator-id-4\" type=\"checkbox\" ><label for=\"sk-estimator-id-4\" class=\"sk-toggleable__label sk-toggleable__label-arrow\">MultinomialNB</label><div class=\"sk-toggleable__content\"><pre>MultinomialNB()</pre></div></div></div></div></div></div></div>"
            ]
          },
          "metadata": {},
          "execution_count": 10
        }
      ],
      "source": [
        "from sklearn.naive_bayes import MultinomialNB\n",
        "from sklearn.pipeline import Pipeline\n",
        "model_0=Pipeline([\n",
        "    ('vect', CountVectorizer()),\n",
        "    (\"tfisf\",TfidfTransformer()),\n",
        "    (\"clf\",MultinomialNB())\n",
        "])\n",
        "model_0.fit(train_sentences,train_labels)"
      ]
    },
    {
      "cell_type": "code",
      "execution_count": 11,
      "id": "2e94a65b",
      "metadata": {
        "execution": {
          "iopub.execute_input": "2023-08-13T16:10:02.681522Z",
          "iopub.status.busy": "2023-08-13T16:10:02.681055Z",
          "iopub.status.idle": "2023-08-13T16:10:07.866595Z",
          "shell.execute_reply": "2023-08-13T16:10:07.865619Z"
        },
        "id": "2e94a65b",
        "outputId": "ea3a5816-f95f-4bf8-fead-7be44e1d9973",
        "papermill": {
          "duration": 5.215786,
          "end_time": "2023-08-13T16:10:07.869504",
          "exception": false,
          "start_time": "2023-08-13T16:10:02.653718",
          "status": "completed"
        },
        "tags": [],
        "colab": {
          "base_uri": "https://localhost:8080/"
        }
      },
      "outputs": [
        {
          "output_type": "execute_result",
          "data": {
            "text/plain": [
              "0.852"
            ]
          },
          "metadata": {},
          "execution_count": 11
        }
      ],
      "source": [
        "#Evaluate model 0\n",
        "model_0_results=model_0.score(val_sentences,val_labels)\n",
        "model_0_results"
      ]
    },
    {
      "cell_type": "code",
      "execution_count": 12,
      "id": "cd3a5d61",
      "metadata": {
        "execution": {
          "iopub.execute_input": "2023-08-13T16:10:07.923096Z",
          "iopub.status.busy": "2023-08-13T16:10:07.922684Z",
          "iopub.status.idle": "2023-08-13T16:10:12.959409Z",
          "shell.execute_reply": "2023-08-13T16:10:12.958445Z"
        },
        "id": "cd3a5d61",
        "outputId": "a2935e7d-cc18-4a79-c7d2-6b8eff0548d9",
        "papermill": {
          "duration": 5.066246,
          "end_time": "2023-08-13T16:10:12.962272",
          "exception": false,
          "start_time": "2023-08-13T16:10:07.896026",
          "status": "completed"
        },
        "tags": [],
        "colab": {
          "base_uri": "https://localhost:8080/"
        }
      },
      "outputs": [
        {
          "output_type": "execute_result",
          "data": {
            "text/plain": [
              "array([0, 0, 0, 1, 0, 0, 0, 0, 1, 0, 0, 1, 0, 0, 1, 0, 0, 0, 1, 1])"
            ]
          },
          "metadata": {},
          "execution_count": 12
        }
      ],
      "source": [
        "#Make predictions\n",
        "model_0_preds=model_0.predict(val_sentences)\n",
        "model_0_preds[:20]"
      ]
    },
    {
      "cell_type": "code",
      "execution_count": 13,
      "id": "94716d2b",
      "metadata": {
        "execution": {
          "iopub.execute_input": "2023-08-13T16:10:13.016596Z",
          "iopub.status.busy": "2023-08-13T16:10:13.016158Z",
          "iopub.status.idle": "2023-08-13T16:10:13.023523Z",
          "shell.execute_reply": "2023-08-13T16:10:13.022490Z"
        },
        "id": "94716d2b",
        "outputId": "c782d14d-c4b1-40d2-bcae-1d3ae6b659fb",
        "papermill": {
          "duration": 0.036558,
          "end_time": "2023-08-13T16:10:13.025675",
          "exception": false,
          "start_time": "2023-08-13T16:10:12.989117",
          "status": "completed"
        },
        "tags": [],
        "colab": {
          "base_uri": "https://localhost:8080/"
        }
      },
      "outputs": [
        {
          "output_type": "execute_result",
          "data": {
            "text/plain": [
              "array([0, 0, 0, 1, 0, 0, 0, 1, 0, 1, 1, 1, 0, 0, 0, 1, 1, 0, 0, 1])"
            ]
          },
          "metadata": {},
          "execution_count": 13
        }
      ],
      "source": [
        "train_labels[:20]"
      ]
    },
    {
      "cell_type": "code",
      "execution_count": 14,
      "id": "58eaa63f",
      "metadata": {
        "execution": {
          "iopub.execute_input": "2023-08-13T16:10:13.079344Z",
          "iopub.status.busy": "2023-08-13T16:10:13.078840Z",
          "iopub.status.idle": "2023-08-13T16:10:13.085404Z",
          "shell.execute_reply": "2023-08-13T16:10:13.084211Z"
        },
        "id": "58eaa63f",
        "papermill": {
          "duration": 0.036123,
          "end_time": "2023-08-13T16:10:13.087666",
          "exception": false,
          "start_time": "2023-08-13T16:10:13.051543",
          "status": "completed"
        },
        "tags": []
      },
      "outputs": [],
      "source": [
        "#function to evaluate a model based on accuracy,precision,recall and F1-score\n",
        "from sklearn.metrics import accuracy_score,precision_recall_fscore_support\n",
        "def calculate_results(y_true,y_preds):\n",
        "  model_accuracy=accuracy_score(y_true,y_preds)\n",
        "  #calculating model precison,recall and f1 score using weighted average\n",
        "  model_precision,model_recall,model_f1,_=precision_recall_fscore_support(y_true,y_preds,average=\"weighted\")\n",
        "  model_results={\"accuracy\":model_accuracy,\n",
        "                 \"precision\":model_precision,\n",
        "                 \"recall\":model_recall,\n",
        "                 \"f1\":model_f1}\n",
        "  return model_results"
      ]
    },
    {
      "cell_type": "code",
      "execution_count": 15,
      "id": "b8a6ad2e",
      "metadata": {
        "execution": {
          "iopub.execute_input": "2023-08-13T16:10:13.140906Z",
          "iopub.status.busy": "2023-08-13T16:10:13.140536Z",
          "iopub.status.idle": "2023-08-13T16:10:13.150757Z",
          "shell.execute_reply": "2023-08-13T16:10:13.149759Z"
        },
        "id": "b8a6ad2e",
        "outputId": "a9ea69dc-f9e0-4bbe-cbe2-9eb7db219c38",
        "papermill": {
          "duration": 0.039753,
          "end_time": "2023-08-13T16:10:13.153123",
          "exception": false,
          "start_time": "2023-08-13T16:10:13.113370",
          "status": "completed"
        },
        "tags": [],
        "colab": {
          "base_uri": "https://localhost:8080/"
        }
      },
      "outputs": [
        {
          "output_type": "execute_result",
          "data": {
            "text/plain": [
              "{'accuracy': 0.852,\n",
              " 'precision': 0.85301153108443,\n",
              " 'recall': 0.852,\n",
              " 'f1': 0.8519287876275655}"
            ]
          },
          "metadata": {},
          "execution_count": 15
        }
      ],
      "source": [
        "#get baseline model results\n",
        "model_0_results=calculate_results(val_labels,model_0_preds)\n",
        "model_0_results"
      ]
    },
    {
      "cell_type": "markdown",
      "id": "1b1a3f54",
      "metadata": {
        "id": "1b1a3f54",
        "papermill": {
          "duration": 0.025627,
          "end_time": "2023-08-13T16:10:13.204771",
          "exception": false,
          "start_time": "2023-08-13T16:10:13.179144",
          "status": "completed"
        },
        "tags": []
      },
      "source": [
        "#The second model we are going to check on is a basic logistic Regression model which can be used for classification problems as well"
      ]
    },
    {
      "cell_type": "code",
      "execution_count": 16,
      "id": "007ac976",
      "metadata": {
        "execution": {
          "iopub.execute_input": "2023-08-13T16:10:13.258458Z",
          "iopub.status.busy": "2023-08-13T16:10:13.258069Z",
          "iopub.status.idle": "2023-08-13T16:11:07.832563Z",
          "shell.execute_reply": "2023-08-13T16:11:07.831486Z"
        },
        "papermill": {
          "duration": 54.630984,
          "end_time": "2023-08-13T16:11:07.861688",
          "exception": false,
          "start_time": "2023-08-13T16:10:13.230704",
          "status": "completed"
        },
        "tags": [],
        "id": "007ac976",
        "outputId": "9d087af4-8c44-4eb2-b592-a34fd592daa8",
        "colab": {
          "base_uri": "https://localhost:8080/",
          "height": 225
        }
      },
      "outputs": [
        {
          "output_type": "execute_result",
          "data": {
            "text/plain": [
              "Pipeline(steps=[('vect', CountVectorizer()), ('tfidf', TfidfTransformer()),\n",
              "                ('clf',\n",
              "                 RandomizedSearchCV(estimator=LogisticRegression(max_iter=200,\n",
              "                                                                 random_state=0,\n",
              "                                                                 solver='saga',\n",
              "                                                                 tol=0.01),\n",
              "                                    param_distributions={'C': <scipy.stats._distn_infrastructure.rv_continuous_frozen object at 0x7841b909cd00>,\n",
              "                                                         'penalty': ['l2',\n",
              "                                                                     'l1']},\n",
              "                                    random_state=0))])"
            ],
            "text/html": [
              "<style>#sk-container-id-2 {color: black;background-color: white;}#sk-container-id-2 pre{padding: 0;}#sk-container-id-2 div.sk-toggleable {background-color: white;}#sk-container-id-2 label.sk-toggleable__label {cursor: pointer;display: block;width: 100%;margin-bottom: 0;padding: 0.3em;box-sizing: border-box;text-align: center;}#sk-container-id-2 label.sk-toggleable__label-arrow:before {content: \"▸\";float: left;margin-right: 0.25em;color: #696969;}#sk-container-id-2 label.sk-toggleable__label-arrow:hover:before {color: black;}#sk-container-id-2 div.sk-estimator:hover label.sk-toggleable__label-arrow:before {color: black;}#sk-container-id-2 div.sk-toggleable__content {max-height: 0;max-width: 0;overflow: hidden;text-align: left;background-color: #f0f8ff;}#sk-container-id-2 div.sk-toggleable__content pre {margin: 0.2em;color: black;border-radius: 0.25em;background-color: #f0f8ff;}#sk-container-id-2 input.sk-toggleable__control:checked~div.sk-toggleable__content {max-height: 200px;max-width: 100%;overflow: auto;}#sk-container-id-2 input.sk-toggleable__control:checked~label.sk-toggleable__label-arrow:before {content: \"▾\";}#sk-container-id-2 div.sk-estimator input.sk-toggleable__control:checked~label.sk-toggleable__label {background-color: #d4ebff;}#sk-container-id-2 div.sk-label input.sk-toggleable__control:checked~label.sk-toggleable__label {background-color: #d4ebff;}#sk-container-id-2 input.sk-hidden--visually {border: 0;clip: rect(1px 1px 1px 1px);clip: rect(1px, 1px, 1px, 1px);height: 1px;margin: -1px;overflow: hidden;padding: 0;position: absolute;width: 1px;}#sk-container-id-2 div.sk-estimator {font-family: monospace;background-color: #f0f8ff;border: 1px dotted black;border-radius: 0.25em;box-sizing: border-box;margin-bottom: 0.5em;}#sk-container-id-2 div.sk-estimator:hover {background-color: #d4ebff;}#sk-container-id-2 div.sk-parallel-item::after {content: \"\";width: 100%;border-bottom: 1px solid gray;flex-grow: 1;}#sk-container-id-2 div.sk-label:hover label.sk-toggleable__label {background-color: #d4ebff;}#sk-container-id-2 div.sk-serial::before {content: \"\";position: absolute;border-left: 1px solid gray;box-sizing: border-box;top: 0;bottom: 0;left: 50%;z-index: 0;}#sk-container-id-2 div.sk-serial {display: flex;flex-direction: column;align-items: center;background-color: white;padding-right: 0.2em;padding-left: 0.2em;position: relative;}#sk-container-id-2 div.sk-item {position: relative;z-index: 1;}#sk-container-id-2 div.sk-parallel {display: flex;align-items: stretch;justify-content: center;background-color: white;position: relative;}#sk-container-id-2 div.sk-item::before, #sk-container-id-2 div.sk-parallel-item::before {content: \"\";position: absolute;border-left: 1px solid gray;box-sizing: border-box;top: 0;bottom: 0;left: 50%;z-index: -1;}#sk-container-id-2 div.sk-parallel-item {display: flex;flex-direction: column;z-index: 1;position: relative;background-color: white;}#sk-container-id-2 div.sk-parallel-item:first-child::after {align-self: flex-end;width: 50%;}#sk-container-id-2 div.sk-parallel-item:last-child::after {align-self: flex-start;width: 50%;}#sk-container-id-2 div.sk-parallel-item:only-child::after {width: 0;}#sk-container-id-2 div.sk-dashed-wrapped {border: 1px dashed gray;margin: 0 0.4em 0.5em 0.4em;box-sizing: border-box;padding-bottom: 0.4em;background-color: white;}#sk-container-id-2 div.sk-label label {font-family: monospace;font-weight: bold;display: inline-block;line-height: 1.2em;}#sk-container-id-2 div.sk-label-container {text-align: center;}#sk-container-id-2 div.sk-container {/* jupyter's `normalize.less` sets `[hidden] { display: none; }` but bootstrap.min.css set `[hidden] { display: none !important; }` so we also need the `!important` here to be able to override the default hidden behavior on the sphinx rendered scikit-learn.org. See: https://github.com/scikit-learn/scikit-learn/issues/21755 */display: inline-block !important;position: relative;}#sk-container-id-2 div.sk-text-repr-fallback {display: none;}</style><div id=\"sk-container-id-2\" class=\"sk-top-container\"><div class=\"sk-text-repr-fallback\"><pre>Pipeline(steps=[(&#x27;vect&#x27;, CountVectorizer()), (&#x27;tfidf&#x27;, TfidfTransformer()),\n",
              "                (&#x27;clf&#x27;,\n",
              "                 RandomizedSearchCV(estimator=LogisticRegression(max_iter=200,\n",
              "                                                                 random_state=0,\n",
              "                                                                 solver=&#x27;saga&#x27;,\n",
              "                                                                 tol=0.01),\n",
              "                                    param_distributions={&#x27;C&#x27;: &lt;scipy.stats._distn_infrastructure.rv_continuous_frozen object at 0x7841b909cd00&gt;,\n",
              "                                                         &#x27;penalty&#x27;: [&#x27;l2&#x27;,\n",
              "                                                                     &#x27;l1&#x27;]},\n",
              "                                    random_state=0))])</pre><b>In a Jupyter environment, please rerun this cell to show the HTML representation or trust the notebook. <br />On GitHub, the HTML representation is unable to render, please try loading this page with nbviewer.org.</b></div><div class=\"sk-container\" hidden><div class=\"sk-item sk-dashed-wrapped\"><div class=\"sk-label-container\"><div class=\"sk-label sk-toggleable\"><input class=\"sk-toggleable__control sk-hidden--visually\" id=\"sk-estimator-id-5\" type=\"checkbox\" ><label for=\"sk-estimator-id-5\" class=\"sk-toggleable__label sk-toggleable__label-arrow\">Pipeline</label><div class=\"sk-toggleable__content\"><pre>Pipeline(steps=[(&#x27;vect&#x27;, CountVectorizer()), (&#x27;tfidf&#x27;, TfidfTransformer()),\n",
              "                (&#x27;clf&#x27;,\n",
              "                 RandomizedSearchCV(estimator=LogisticRegression(max_iter=200,\n",
              "                                                                 random_state=0,\n",
              "                                                                 solver=&#x27;saga&#x27;,\n",
              "                                                                 tol=0.01),\n",
              "                                    param_distributions={&#x27;C&#x27;: &lt;scipy.stats._distn_infrastructure.rv_continuous_frozen object at 0x7841b909cd00&gt;,\n",
              "                                                         &#x27;penalty&#x27;: [&#x27;l2&#x27;,\n",
              "                                                                     &#x27;l1&#x27;]},\n",
              "                                    random_state=0))])</pre></div></div></div><div class=\"sk-serial\"><div class=\"sk-item\"><div class=\"sk-estimator sk-toggleable\"><input class=\"sk-toggleable__control sk-hidden--visually\" id=\"sk-estimator-id-6\" type=\"checkbox\" ><label for=\"sk-estimator-id-6\" class=\"sk-toggleable__label sk-toggleable__label-arrow\">CountVectorizer</label><div class=\"sk-toggleable__content\"><pre>CountVectorizer()</pre></div></div></div><div class=\"sk-item\"><div class=\"sk-estimator sk-toggleable\"><input class=\"sk-toggleable__control sk-hidden--visually\" id=\"sk-estimator-id-7\" type=\"checkbox\" ><label for=\"sk-estimator-id-7\" class=\"sk-toggleable__label sk-toggleable__label-arrow\">TfidfTransformer</label><div class=\"sk-toggleable__content\"><pre>TfidfTransformer()</pre></div></div></div><div class=\"sk-item sk-dashed-wrapped\"><div class=\"sk-label-container\"><div class=\"sk-label sk-toggleable\"><input class=\"sk-toggleable__control sk-hidden--visually\" id=\"sk-estimator-id-8\" type=\"checkbox\" ><label for=\"sk-estimator-id-8\" class=\"sk-toggleable__label sk-toggleable__label-arrow\">clf: RandomizedSearchCV</label><div class=\"sk-toggleable__content\"><pre>RandomizedSearchCV(estimator=LogisticRegression(max_iter=200, random_state=0,\n",
              "                                                solver=&#x27;saga&#x27;, tol=0.01),\n",
              "                   param_distributions={&#x27;C&#x27;: &lt;scipy.stats._distn_infrastructure.rv_continuous_frozen object at 0x7841b909cd00&gt;,\n",
              "                                        &#x27;penalty&#x27;: [&#x27;l2&#x27;, &#x27;l1&#x27;]},\n",
              "                   random_state=0)</pre></div></div></div><div class=\"sk-parallel\"><div class=\"sk-parallel-item\"><div class=\"sk-item\"><div class=\"sk-label-container\"><div class=\"sk-label sk-toggleable\"><input class=\"sk-toggleable__control sk-hidden--visually\" id=\"sk-estimator-id-9\" type=\"checkbox\" ><label for=\"sk-estimator-id-9\" class=\"sk-toggleable__label sk-toggleable__label-arrow\">estimator: LogisticRegression</label><div class=\"sk-toggleable__content\"><pre>LogisticRegression(max_iter=200, random_state=0, solver=&#x27;saga&#x27;, tol=0.01)</pre></div></div></div><div class=\"sk-serial\"><div class=\"sk-item\"><div class=\"sk-estimator sk-toggleable\"><input class=\"sk-toggleable__control sk-hidden--visually\" id=\"sk-estimator-id-10\" type=\"checkbox\" ><label for=\"sk-estimator-id-10\" class=\"sk-toggleable__label sk-toggleable__label-arrow\">LogisticRegression</label><div class=\"sk-toggleable__content\"><pre>LogisticRegression(max_iter=200, random_state=0, solver=&#x27;saga&#x27;, tol=0.01)</pre></div></div></div></div></div></div></div></div></div></div></div></div>"
            ]
          },
          "metadata": {},
          "execution_count": 16
        }
      ],
      "source": [
        "from sklearn.linear_model import LogisticRegression\n",
        "from sklearn.model_selection import RandomizedSearchCV\n",
        "from scipy.stats import uniform\n",
        "logistic=LogisticRegression(solver='saga', tol=1e-2, max_iter=200,random_state=0)\n",
        "distributions=dict(C=uniform(loc=0, scale=4),penalty=['l2', 'l1'])\n",
        "model_1=Pipeline([\n",
        "     ('vect',CountVectorizer()),\n",
        "     ('tfidf',TfidfTransformer()),\n",
        "     ('clf',RandomizedSearchCV(logistic, distributions, random_state=0))\n",
        "])\n",
        "model_1.fit(train_sentences,train_labels)"
      ]
    },
    {
      "cell_type": "code",
      "execution_count": 17,
      "id": "91bc1c05",
      "metadata": {
        "execution": {
          "iopub.execute_input": "2023-08-13T16:11:07.916048Z",
          "iopub.status.busy": "2023-08-13T16:11:07.915666Z",
          "iopub.status.idle": "2023-08-13T16:11:07.976452Z",
          "shell.execute_reply": "2023-08-13T16:11:07.975408Z"
        },
        "papermill": {
          "duration": 0.09086,
          "end_time": "2023-08-13T16:11:07.978897",
          "exception": false,
          "start_time": "2023-08-13T16:11:07.888037",
          "status": "completed"
        },
        "tags": [],
        "id": "91bc1c05",
        "outputId": "ac7cec67-6d57-404e-b01b-659656d4c5c8",
        "colab": {
          "base_uri": "https://localhost:8080/"
        }
      },
      "outputs": [
        {
          "output_type": "execute_result",
          "data": {
            "text/plain": [
              "0.9025"
            ]
          },
          "metadata": {},
          "execution_count": 17
        }
      ],
      "source": [
        "#Evaluate model 1\n",
        "model_1_score=model_1.score(val_sentences,val_labels)\n",
        "model_1_score"
      ]
    },
    {
      "cell_type": "code",
      "execution_count": 18,
      "id": "d1bcb6c4",
      "metadata": {
        "execution": {
          "iopub.execute_input": "2023-08-13T16:11:08.034526Z",
          "iopub.status.busy": "2023-08-13T16:11:08.033724Z",
          "iopub.status.idle": "2023-08-13T16:11:08.096399Z",
          "shell.execute_reply": "2023-08-13T16:11:08.095297Z"
        },
        "id": "d1bcb6c4",
        "outputId": "71e37317-3af6-45cc-e529-693b3e8df146",
        "papermill": {
          "duration": 0.093547,
          "end_time": "2023-08-13T16:11:08.099134",
          "exception": false,
          "start_time": "2023-08-13T16:11:08.005587",
          "status": "completed"
        },
        "tags": [],
        "colab": {
          "base_uri": "https://localhost:8080/"
        }
      },
      "outputs": [
        {
          "output_type": "execute_result",
          "data": {
            "text/plain": [
              "array([1, 0, 0, 1, 0, 0, 0, 0, 1, 0, 0, 1, 0, 0, 1, 0, 0, 0, 0, 1])"
            ]
          },
          "metadata": {},
          "execution_count": 18
        }
      ],
      "source": [
        "model_1_preds=model_1.predict(val_sentences)\n",
        "model_1_preds[:20]"
      ]
    },
    {
      "cell_type": "code",
      "execution_count": 19,
      "id": "c0b047d9",
      "metadata": {
        "execution": {
          "iopub.execute_input": "2023-08-13T16:11:08.154656Z",
          "iopub.status.busy": "2023-08-13T16:11:08.153861Z",
          "iopub.status.idle": "2023-08-13T16:11:08.164253Z",
          "shell.execute_reply": "2023-08-13T16:11:08.163222Z"
        },
        "id": "c0b047d9",
        "outputId": "f793fd25-54f1-4489-f958-ce1a3c88ba99",
        "papermill": {
          "duration": 0.040711,
          "end_time": "2023-08-13T16:11:08.166575",
          "exception": false,
          "start_time": "2023-08-13T16:11:08.125864",
          "status": "completed"
        },
        "tags": [],
        "colab": {
          "base_uri": "https://localhost:8080/"
        }
      },
      "outputs": [
        {
          "output_type": "execute_result",
          "data": {
            "text/plain": [
              "{'accuracy': 0.9025,\n",
              " 'precision': 0.9026039536481774,\n",
              " 'recall': 0.9025,\n",
              " 'f1': 0.9024867366045708}"
            ]
          },
          "metadata": {},
          "execution_count": 19
        }
      ],
      "source": [
        "model_1_results=calculate_results(val_labels,model_1_preds)\n",
        "model_1_results"
      ]
    },
    {
      "cell_type": "markdown",
      "id": "8e11a763",
      "metadata": {
        "id": "8e11a763",
        "papermill": {
          "duration": 0.026524,
          "end_time": "2023-08-13T16:11:08.220052",
          "exception": false,
          "start_time": "2023-08-13T16:11:08.193528",
          "status": "completed"
        },
        "tags": []
      },
      "source": [
        "#The third Model we are going to use is a Multi Layer perceptron (MLP) classifier from the sklearn neural netwroks library"
      ]
    },
    {
      "cell_type": "code",
      "execution_count": 20,
      "id": "ddfa52a3",
      "metadata": {
        "execution": {
          "iopub.execute_input": "2023-08-13T16:11:08.275591Z",
          "iopub.status.busy": "2023-08-13T16:11:08.274550Z",
          "iopub.status.idle": "2023-08-13T16:12:08.145834Z",
          "shell.execute_reply": "2023-08-13T16:12:08.144621Z"
        },
        "papermill": {
          "duration": 59.929569,
          "end_time": "2023-08-13T16:12:08.176267",
          "exception": false,
          "start_time": "2023-08-13T16:11:08.246698",
          "status": "completed"
        },
        "tags": [],
        "id": "ddfa52a3",
        "outputId": "1291f583-a1a5-46a7-8246-1297e729003d",
        "colab": {
          "base_uri": "https://localhost:8080/",
          "height": 194
        }
      },
      "outputs": [
        {
          "output_type": "stream",
          "name": "stderr",
          "text": [
            "/usr/local/lib/python3.10/dist-packages/sklearn/neural_network/_multilayer_perceptron.py:693: UserWarning: Training interrupted by user.\n",
            "  warnings.warn(\"Training interrupted by user.\")\n"
          ]
        },
        {
          "output_type": "execute_result",
          "data": {
            "text/plain": [
              "Pipeline(steps=[('vect', CountVectorizer()), ('tfidf', TfidfTransformer()),\n",
              "                ('clf', MLPClassifier(max_iter=7))])"
            ],
            "text/html": [
              "<style>#sk-container-id-3 {color: black;background-color: white;}#sk-container-id-3 pre{padding: 0;}#sk-container-id-3 div.sk-toggleable {background-color: white;}#sk-container-id-3 label.sk-toggleable__label {cursor: pointer;display: block;width: 100%;margin-bottom: 0;padding: 0.3em;box-sizing: border-box;text-align: center;}#sk-container-id-3 label.sk-toggleable__label-arrow:before {content: \"▸\";float: left;margin-right: 0.25em;color: #696969;}#sk-container-id-3 label.sk-toggleable__label-arrow:hover:before {color: black;}#sk-container-id-3 div.sk-estimator:hover label.sk-toggleable__label-arrow:before {color: black;}#sk-container-id-3 div.sk-toggleable__content {max-height: 0;max-width: 0;overflow: hidden;text-align: left;background-color: #f0f8ff;}#sk-container-id-3 div.sk-toggleable__content pre {margin: 0.2em;color: black;border-radius: 0.25em;background-color: #f0f8ff;}#sk-container-id-3 input.sk-toggleable__control:checked~div.sk-toggleable__content {max-height: 200px;max-width: 100%;overflow: auto;}#sk-container-id-3 input.sk-toggleable__control:checked~label.sk-toggleable__label-arrow:before {content: \"▾\";}#sk-container-id-3 div.sk-estimator input.sk-toggleable__control:checked~label.sk-toggleable__label {background-color: #d4ebff;}#sk-container-id-3 div.sk-label input.sk-toggleable__control:checked~label.sk-toggleable__label {background-color: #d4ebff;}#sk-container-id-3 input.sk-hidden--visually {border: 0;clip: rect(1px 1px 1px 1px);clip: rect(1px, 1px, 1px, 1px);height: 1px;margin: -1px;overflow: hidden;padding: 0;position: absolute;width: 1px;}#sk-container-id-3 div.sk-estimator {font-family: monospace;background-color: #f0f8ff;border: 1px dotted black;border-radius: 0.25em;box-sizing: border-box;margin-bottom: 0.5em;}#sk-container-id-3 div.sk-estimator:hover {background-color: #d4ebff;}#sk-container-id-3 div.sk-parallel-item::after {content: \"\";width: 100%;border-bottom: 1px solid gray;flex-grow: 1;}#sk-container-id-3 div.sk-label:hover label.sk-toggleable__label {background-color: #d4ebff;}#sk-container-id-3 div.sk-serial::before {content: \"\";position: absolute;border-left: 1px solid gray;box-sizing: border-box;top: 0;bottom: 0;left: 50%;z-index: 0;}#sk-container-id-3 div.sk-serial {display: flex;flex-direction: column;align-items: center;background-color: white;padding-right: 0.2em;padding-left: 0.2em;position: relative;}#sk-container-id-3 div.sk-item {position: relative;z-index: 1;}#sk-container-id-3 div.sk-parallel {display: flex;align-items: stretch;justify-content: center;background-color: white;position: relative;}#sk-container-id-3 div.sk-item::before, #sk-container-id-3 div.sk-parallel-item::before {content: \"\";position: absolute;border-left: 1px solid gray;box-sizing: border-box;top: 0;bottom: 0;left: 50%;z-index: -1;}#sk-container-id-3 div.sk-parallel-item {display: flex;flex-direction: column;z-index: 1;position: relative;background-color: white;}#sk-container-id-3 div.sk-parallel-item:first-child::after {align-self: flex-end;width: 50%;}#sk-container-id-3 div.sk-parallel-item:last-child::after {align-self: flex-start;width: 50%;}#sk-container-id-3 div.sk-parallel-item:only-child::after {width: 0;}#sk-container-id-3 div.sk-dashed-wrapped {border: 1px dashed gray;margin: 0 0.4em 0.5em 0.4em;box-sizing: border-box;padding-bottom: 0.4em;background-color: white;}#sk-container-id-3 div.sk-label label {font-family: monospace;font-weight: bold;display: inline-block;line-height: 1.2em;}#sk-container-id-3 div.sk-label-container {text-align: center;}#sk-container-id-3 div.sk-container {/* jupyter's `normalize.less` sets `[hidden] { display: none; }` but bootstrap.min.css set `[hidden] { display: none !important; }` so we also need the `!important` here to be able to override the default hidden behavior on the sphinx rendered scikit-learn.org. See: https://github.com/scikit-learn/scikit-learn/issues/21755 */display: inline-block !important;position: relative;}#sk-container-id-3 div.sk-text-repr-fallback {display: none;}</style><div id=\"sk-container-id-3\" class=\"sk-top-container\"><div class=\"sk-text-repr-fallback\"><pre>Pipeline(steps=[(&#x27;vect&#x27;, CountVectorizer()), (&#x27;tfidf&#x27;, TfidfTransformer()),\n",
              "                (&#x27;clf&#x27;, MLPClassifier(max_iter=7))])</pre><b>In a Jupyter environment, please rerun this cell to show the HTML representation or trust the notebook. <br />On GitHub, the HTML representation is unable to render, please try loading this page with nbviewer.org.</b></div><div class=\"sk-container\" hidden><div class=\"sk-item sk-dashed-wrapped\"><div class=\"sk-label-container\"><div class=\"sk-label sk-toggleable\"><input class=\"sk-toggleable__control sk-hidden--visually\" id=\"sk-estimator-id-11\" type=\"checkbox\" ><label for=\"sk-estimator-id-11\" class=\"sk-toggleable__label sk-toggleable__label-arrow\">Pipeline</label><div class=\"sk-toggleable__content\"><pre>Pipeline(steps=[(&#x27;vect&#x27;, CountVectorizer()), (&#x27;tfidf&#x27;, TfidfTransformer()),\n",
              "                (&#x27;clf&#x27;, MLPClassifier(max_iter=7))])</pre></div></div></div><div class=\"sk-serial\"><div class=\"sk-item\"><div class=\"sk-estimator sk-toggleable\"><input class=\"sk-toggleable__control sk-hidden--visually\" id=\"sk-estimator-id-12\" type=\"checkbox\" ><label for=\"sk-estimator-id-12\" class=\"sk-toggleable__label sk-toggleable__label-arrow\">CountVectorizer</label><div class=\"sk-toggleable__content\"><pre>CountVectorizer()</pre></div></div></div><div class=\"sk-item\"><div class=\"sk-estimator sk-toggleable\"><input class=\"sk-toggleable__control sk-hidden--visually\" id=\"sk-estimator-id-13\" type=\"checkbox\" ><label for=\"sk-estimator-id-13\" class=\"sk-toggleable__label sk-toggleable__label-arrow\">TfidfTransformer</label><div class=\"sk-toggleable__content\"><pre>TfidfTransformer()</pre></div></div></div><div class=\"sk-item\"><div class=\"sk-estimator sk-toggleable\"><input class=\"sk-toggleable__control sk-hidden--visually\" id=\"sk-estimator-id-14\" type=\"checkbox\" ><label for=\"sk-estimator-id-14\" class=\"sk-toggleable__label sk-toggleable__label-arrow\">MLPClassifier</label><div class=\"sk-toggleable__content\"><pre>MLPClassifier(max_iter=7)</pre></div></div></div></div></div></div></div>"
            ]
          },
          "metadata": {},
          "execution_count": 20
        }
      ],
      "source": [
        "from sklearn.neural_network import MLPClassifier\n",
        "clf=MLPClassifier(max_iter=5,random_state=42)\n",
        "model_2= Pipeline([\n",
        "    ('vect',CountVectorizer()),\n",
        "    ('tfidf',TfidfTransformer()),\n",
        "    ('clf', MLPClassifier(max_iter=5,random_state=42))\n",
        "])\n",
        "model_2.fit(train_sentences,train_labels)"
      ]
    },
    {
      "cell_type": "code",
      "execution_count": 21,
      "id": "15d84bdb",
      "metadata": {
        "execution": {
          "iopub.execute_input": "2023-08-13T16:12:08.232657Z",
          "iopub.status.busy": "2023-08-13T16:12:08.232278Z",
          "iopub.status.idle": "2023-08-13T16:12:08.307455Z",
          "shell.execute_reply": "2023-08-13T16:12:08.305983Z"
        },
        "papermill": {
          "duration": 0.108244,
          "end_time": "2023-08-13T16:12:08.311525",
          "exception": false,
          "start_time": "2023-08-13T16:12:08.203281",
          "status": "completed"
        },
        "tags": [],
        "id": "15d84bdb",
        "outputId": "728be412-65f7-4056-887d-bd808b565fae",
        "colab": {
          "base_uri": "https://localhost:8080/"
        }
      },
      "outputs": [
        {
          "output_type": "execute_result",
          "data": {
            "text/plain": [
              "0.8555"
            ]
          },
          "metadata": {},
          "execution_count": 21
        }
      ],
      "source": [
        "model_2_score=model_2.score(val_sentences,val_labels)\n",
        "model_2_score"
      ]
    },
    {
      "cell_type": "code",
      "execution_count": 22,
      "id": "71c9d134",
      "metadata": {
        "execution": {
          "iopub.execute_input": "2023-08-13T16:12:08.423633Z",
          "iopub.status.busy": "2023-08-13T16:12:08.423236Z",
          "iopub.status.idle": "2023-08-13T16:12:08.493147Z",
          "shell.execute_reply": "2023-08-13T16:12:08.491679Z"
        },
        "id": "71c9d134",
        "outputId": "894c35c1-dd2a-47be-e279-3be86368b223",
        "papermill": {
          "duration": 0.126791,
          "end_time": "2023-08-13T16:12:08.497214",
          "exception": false,
          "start_time": "2023-08-13T16:12:08.370423",
          "status": "completed"
        },
        "tags": [],
        "colab": {
          "base_uri": "https://localhost:8080/"
        }
      },
      "outputs": [
        {
          "output_type": "execute_result",
          "data": {
            "text/plain": [
              "array([1, 0, 0, 1, 0, 0, 0, 0, 1, 0, 0, 1, 0, 0, 1, 0, 0, 0, 1, 1])"
            ]
          },
          "metadata": {},
          "execution_count": 22
        }
      ],
      "source": [
        "model_2_preds=model_2.predict(val_sentences)\n",
        "model_2_preds[:20]"
      ]
    },
    {
      "cell_type": "code",
      "execution_count": 23,
      "id": "cd8e2147",
      "metadata": {
        "execution": {
          "iopub.execute_input": "2023-08-13T16:12:08.612313Z",
          "iopub.status.busy": "2023-08-13T16:12:08.611849Z",
          "iopub.status.idle": "2023-08-13T16:12:08.623651Z",
          "shell.execute_reply": "2023-08-13T16:12:08.622330Z"
        },
        "id": "cd8e2147",
        "outputId": "e8803521-3a36-4482-c551-3a1ab24c972a",
        "papermill": {
          "duration": 0.070662,
          "end_time": "2023-08-13T16:12:08.626171",
          "exception": false,
          "start_time": "2023-08-13T16:12:08.555509",
          "status": "completed"
        },
        "tags": [],
        "colab": {
          "base_uri": "https://localhost:8080/"
        }
      },
      "outputs": [
        {
          "output_type": "execute_result",
          "data": {
            "text/plain": [
              "{'accuracy': 0.8555,\n",
              " 'precision': 0.8568056561455972,\n",
              " 'recall': 0.8555,\n",
              " 'f1': 0.8553272832405834}"
            ]
          },
          "metadata": {},
          "execution_count": 23
        }
      ],
      "source": [
        "model_2_results=calculate_results(val_labels,model_2_preds)\n",
        "model_2_results"
      ]
    },
    {
      "cell_type": "markdown",
      "id": "7c51913d",
      "metadata": {
        "id": "7c51913d",
        "papermill": {
          "duration": 0.027126,
          "end_time": "2023-08-13T16:12:08.680962",
          "exception": false,
          "start_time": "2023-08-13T16:12:08.653836",
          "status": "completed"
        },
        "tags": []
      },
      "source": [
        "#The Fourth Model we will be using for this dataset is the Gradient Boosting\n",
        "\n",
        "---\n",
        "\n",
        "Gradient Machine Leanring Model"
      ]
    },
    {
      "cell_type": "code",
      "execution_count": 24,
      "id": "987050f9",
      "metadata": {
        "execution": {
          "iopub.execute_input": "2023-08-13T16:12:08.738457Z",
          "iopub.status.busy": "2023-08-13T16:12:08.738049Z",
          "iopub.status.idle": "2023-08-13T16:12:13.719611Z",
          "shell.execute_reply": "2023-08-13T16:12:13.718385Z"
        },
        "id": "987050f9",
        "outputId": "e468c25d-4dfc-48e6-e77d-0f5e71595520",
        "papermill": {
          "duration": 5.013905,
          "end_time": "2023-08-13T16:12:13.722878",
          "exception": false,
          "start_time": "2023-08-13T16:12:08.708973",
          "status": "completed"
        },
        "tags": [],
        "colab": {
          "base_uri": "https://localhost:8080/",
          "height": 159
        }
      },
      "outputs": [
        {
          "output_type": "execute_result",
          "data": {
            "text/plain": [
              "Pipeline(steps=[('vect', CountVectorizer()), ('tfidf', TfidfTransformer()),\n",
              "                ('clf',\n",
              "                 GradientBoostingClassifier(learning_rate=1.0, max_depth=1,\n",
              "                                            random_state=42))])"
            ],
            "text/html": [
              "<style>#sk-container-id-4 {color: black;background-color: white;}#sk-container-id-4 pre{padding: 0;}#sk-container-id-4 div.sk-toggleable {background-color: white;}#sk-container-id-4 label.sk-toggleable__label {cursor: pointer;display: block;width: 100%;margin-bottom: 0;padding: 0.3em;box-sizing: border-box;text-align: center;}#sk-container-id-4 label.sk-toggleable__label-arrow:before {content: \"▸\";float: left;margin-right: 0.25em;color: #696969;}#sk-container-id-4 label.sk-toggleable__label-arrow:hover:before {color: black;}#sk-container-id-4 div.sk-estimator:hover label.sk-toggleable__label-arrow:before {color: black;}#sk-container-id-4 div.sk-toggleable__content {max-height: 0;max-width: 0;overflow: hidden;text-align: left;background-color: #f0f8ff;}#sk-container-id-4 div.sk-toggleable__content pre {margin: 0.2em;color: black;border-radius: 0.25em;background-color: #f0f8ff;}#sk-container-id-4 input.sk-toggleable__control:checked~div.sk-toggleable__content {max-height: 200px;max-width: 100%;overflow: auto;}#sk-container-id-4 input.sk-toggleable__control:checked~label.sk-toggleable__label-arrow:before {content: \"▾\";}#sk-container-id-4 div.sk-estimator input.sk-toggleable__control:checked~label.sk-toggleable__label {background-color: #d4ebff;}#sk-container-id-4 div.sk-label input.sk-toggleable__control:checked~label.sk-toggleable__label {background-color: #d4ebff;}#sk-container-id-4 input.sk-hidden--visually {border: 0;clip: rect(1px 1px 1px 1px);clip: rect(1px, 1px, 1px, 1px);height: 1px;margin: -1px;overflow: hidden;padding: 0;position: absolute;width: 1px;}#sk-container-id-4 div.sk-estimator {font-family: monospace;background-color: #f0f8ff;border: 1px dotted black;border-radius: 0.25em;box-sizing: border-box;margin-bottom: 0.5em;}#sk-container-id-4 div.sk-estimator:hover {background-color: #d4ebff;}#sk-container-id-4 div.sk-parallel-item::after {content: \"\";width: 100%;border-bottom: 1px solid gray;flex-grow: 1;}#sk-container-id-4 div.sk-label:hover label.sk-toggleable__label {background-color: #d4ebff;}#sk-container-id-4 div.sk-serial::before {content: \"\";position: absolute;border-left: 1px solid gray;box-sizing: border-box;top: 0;bottom: 0;left: 50%;z-index: 0;}#sk-container-id-4 div.sk-serial {display: flex;flex-direction: column;align-items: center;background-color: white;padding-right: 0.2em;padding-left: 0.2em;position: relative;}#sk-container-id-4 div.sk-item {position: relative;z-index: 1;}#sk-container-id-4 div.sk-parallel {display: flex;align-items: stretch;justify-content: center;background-color: white;position: relative;}#sk-container-id-4 div.sk-item::before, #sk-container-id-4 div.sk-parallel-item::before {content: \"\";position: absolute;border-left: 1px solid gray;box-sizing: border-box;top: 0;bottom: 0;left: 50%;z-index: -1;}#sk-container-id-4 div.sk-parallel-item {display: flex;flex-direction: column;z-index: 1;position: relative;background-color: white;}#sk-container-id-4 div.sk-parallel-item:first-child::after {align-self: flex-end;width: 50%;}#sk-container-id-4 div.sk-parallel-item:last-child::after {align-self: flex-start;width: 50%;}#sk-container-id-4 div.sk-parallel-item:only-child::after {width: 0;}#sk-container-id-4 div.sk-dashed-wrapped {border: 1px dashed gray;margin: 0 0.4em 0.5em 0.4em;box-sizing: border-box;padding-bottom: 0.4em;background-color: white;}#sk-container-id-4 div.sk-label label {font-family: monospace;font-weight: bold;display: inline-block;line-height: 1.2em;}#sk-container-id-4 div.sk-label-container {text-align: center;}#sk-container-id-4 div.sk-container {/* jupyter's `normalize.less` sets `[hidden] { display: none; }` but bootstrap.min.css set `[hidden] { display: none !important; }` so we also need the `!important` here to be able to override the default hidden behavior on the sphinx rendered scikit-learn.org. See: https://github.com/scikit-learn/scikit-learn/issues/21755 */display: inline-block !important;position: relative;}#sk-container-id-4 div.sk-text-repr-fallback {display: none;}</style><div id=\"sk-container-id-4\" class=\"sk-top-container\"><div class=\"sk-text-repr-fallback\"><pre>Pipeline(steps=[(&#x27;vect&#x27;, CountVectorizer()), (&#x27;tfidf&#x27;, TfidfTransformer()),\n",
              "                (&#x27;clf&#x27;,\n",
              "                 GradientBoostingClassifier(learning_rate=1.0, max_depth=1,\n",
              "                                            random_state=42))])</pre><b>In a Jupyter environment, please rerun this cell to show the HTML representation or trust the notebook. <br />On GitHub, the HTML representation is unable to render, please try loading this page with nbviewer.org.</b></div><div class=\"sk-container\" hidden><div class=\"sk-item sk-dashed-wrapped\"><div class=\"sk-label-container\"><div class=\"sk-label sk-toggleable\"><input class=\"sk-toggleable__control sk-hidden--visually\" id=\"sk-estimator-id-15\" type=\"checkbox\" ><label for=\"sk-estimator-id-15\" class=\"sk-toggleable__label sk-toggleable__label-arrow\">Pipeline</label><div class=\"sk-toggleable__content\"><pre>Pipeline(steps=[(&#x27;vect&#x27;, CountVectorizer()), (&#x27;tfidf&#x27;, TfidfTransformer()),\n",
              "                (&#x27;clf&#x27;,\n",
              "                 GradientBoostingClassifier(learning_rate=1.0, max_depth=1,\n",
              "                                            random_state=42))])</pre></div></div></div><div class=\"sk-serial\"><div class=\"sk-item\"><div class=\"sk-estimator sk-toggleable\"><input class=\"sk-toggleable__control sk-hidden--visually\" id=\"sk-estimator-id-16\" type=\"checkbox\" ><label for=\"sk-estimator-id-16\" class=\"sk-toggleable__label sk-toggleable__label-arrow\">CountVectorizer</label><div class=\"sk-toggleable__content\"><pre>CountVectorizer()</pre></div></div></div><div class=\"sk-item\"><div class=\"sk-estimator sk-toggleable\"><input class=\"sk-toggleable__control sk-hidden--visually\" id=\"sk-estimator-id-17\" type=\"checkbox\" ><label for=\"sk-estimator-id-17\" class=\"sk-toggleable__label sk-toggleable__label-arrow\">TfidfTransformer</label><div class=\"sk-toggleable__content\"><pre>TfidfTransformer()</pre></div></div></div><div class=\"sk-item\"><div class=\"sk-estimator sk-toggleable\"><input class=\"sk-toggleable__control sk-hidden--visually\" id=\"sk-estimator-id-18\" type=\"checkbox\" ><label for=\"sk-estimator-id-18\" class=\"sk-toggleable__label sk-toggleable__label-arrow\">GradientBoostingClassifier</label><div class=\"sk-toggleable__content\"><pre>GradientBoostingClassifier(learning_rate=1.0, max_depth=1, random_state=42)</pre></div></div></div></div></div></div></div>"
            ]
          },
          "metadata": {},
          "execution_count": 24
        }
      ],
      "source": [
        "from sklearn.ensemble import GradientBoostingClassifier\n",
        "model_3= Pipeline([\n",
        "    ('vect',CountVectorizer()),\n",
        "    ('tfidf',TfidfTransformer()),\n",
        "    ('clf',GradientBoostingClassifier(n_estimators=100,learning_rate=1.0,max_depth=1,random_state=42))\n",
        "])\n",
        "model_3.fit(train_sentences,train_labels)"
      ]
    },
    {
      "cell_type": "code",
      "execution_count": 25,
      "id": "27eed4d3",
      "metadata": {
        "execution": {
          "iopub.execute_input": "2023-08-13T16:12:13.782140Z",
          "iopub.status.busy": "2023-08-13T16:12:13.781002Z",
          "iopub.status.idle": "2023-08-13T16:12:13.845055Z",
          "shell.execute_reply": "2023-08-13T16:12:13.844004Z"
        },
        "id": "27eed4d3",
        "outputId": "c4ba5a27-76e3-4310-aa7f-5af5d4b99e8e",
        "papermill": {
          "duration": 0.096459,
          "end_time": "2023-08-13T16:12:13.847623",
          "exception": false,
          "start_time": "2023-08-13T16:12:13.751164",
          "status": "completed"
        },
        "tags": [],
        "colab": {
          "base_uri": "https://localhost:8080/"
        }
      },
      "outputs": [
        {
          "output_type": "execute_result",
          "data": {
            "text/plain": [
              "0.8285"
            ]
          },
          "metadata": {},
          "execution_count": 25
        }
      ],
      "source": [
        "model_3_score=model_3.score(val_sentences,val_labels)\n",
        "model_3_score"
      ]
    },
    {
      "cell_type": "code",
      "execution_count": 26,
      "id": "b4be2d62",
      "metadata": {
        "execution": {
          "iopub.execute_input": "2023-08-13T16:12:13.904984Z",
          "iopub.status.busy": "2023-08-13T16:12:13.904588Z",
          "iopub.status.idle": "2023-08-13T16:12:13.968791Z",
          "shell.execute_reply": "2023-08-13T16:12:13.967625Z"
        },
        "id": "b4be2d62",
        "outputId": "1e3ff86a-5547-478c-e06d-e957af70f5e5",
        "papermill": {
          "duration": 0.095721,
          "end_time": "2023-08-13T16:12:13.971248",
          "exception": false,
          "start_time": "2023-08-13T16:12:13.875527",
          "status": "completed"
        },
        "tags": [],
        "colab": {
          "base_uri": "https://localhost:8080/"
        }
      },
      "outputs": [
        {
          "output_type": "execute_result",
          "data": {
            "text/plain": [
              "array([0, 0, 0, 0, 0, 0, 0, 0, 1, 0, 0, 1, 0, 0, 1, 0, 0, 0, 1, 1])"
            ]
          },
          "metadata": {},
          "execution_count": 26
        }
      ],
      "source": [
        "model_3_preds=model_3.predict(val_sentences)\n",
        "model_3_preds[:20]"
      ]
    },
    {
      "cell_type": "code",
      "execution_count": 27,
      "id": "0e30478b",
      "metadata": {
        "execution": {
          "iopub.execute_input": "2023-08-13T16:12:14.029991Z",
          "iopub.status.busy": "2023-08-13T16:12:14.029580Z",
          "iopub.status.idle": "2023-08-13T16:12:14.041062Z",
          "shell.execute_reply": "2023-08-13T16:12:14.040179Z"
        },
        "id": "0e30478b",
        "outputId": "919d25c4-d523-456d-c63e-e7af8e1d3ab7",
        "papermill": {
          "duration": 0.044146,
          "end_time": "2023-08-13T16:12:14.043462",
          "exception": false,
          "start_time": "2023-08-13T16:12:13.999316",
          "status": "completed"
        },
        "tags": [],
        "colab": {
          "base_uri": "https://localhost:8080/"
        }
      },
      "outputs": [
        {
          "output_type": "execute_result",
          "data": {
            "text/plain": [
              "{'accuracy': 0.8285,\n",
              " 'precision': 0.828858040460582,\n",
              " 'recall': 0.8285,\n",
              " 'f1': 0.8284249218261414}"
            ]
          },
          "metadata": {},
          "execution_count": 27
        }
      ],
      "source": [
        "model_3_results=calculate_results(val_labels,model_3_preds)\n",
        "model_3_results"
      ]
    },
    {
      "cell_type": "markdown",
      "id": "9c276536",
      "metadata": {
        "id": "9c276536",
        "papermill": {
          "duration": 0.027732,
          "end_time": "2023-08-13T16:12:14.100362",
          "exception": false,
          "start_time": "2023-08-13T16:12:14.072630",
          "status": "completed"
        },
        "tags": []
      },
      "source": [
        "#The Fifth Model for text classification of Movie Reviews is the Linear Support Vector Classifier(Linear SVC)"
      ]
    },
    {
      "cell_type": "code",
      "execution_count": 40,
      "id": "f2f04d90",
      "metadata": {
        "execution": {
          "iopub.execute_input": "2023-08-13T16:12:14.160334Z",
          "iopub.status.busy": "2023-08-13T16:12:14.159871Z",
          "iopub.status.idle": "2023-08-13T16:12:30.287438Z",
          "shell.execute_reply": "2023-08-13T16:12:30.285208Z"
        },
        "papermill": {
          "duration": 16.161259,
          "end_time": "2023-08-13T16:12:30.291756",
          "exception": false,
          "start_time": "2023-08-13T16:12:14.130497",
          "status": "completed"
        },
        "tags": [],
        "id": "f2f04d90",
        "outputId": "072b49b4-ce6a-442d-bdec-e6dd71d4d3c1",
        "colab": {
          "base_uri": "https://localhost:8080/"
        }
      },
      "outputs": [
        {
          "output_type": "stream",
          "name": "stdout",
          "text": [
            "Best Hyperparameters:\n",
            "{'Linear SVC__penalty': 'l2', 'Linear SVC__max_iter': 1000, 'Linear SVC__dual': False, 'Linear SVC__C': 1.0}\n",
            "Best Mean Test Score (Accuracy):\n",
            "0.8974444444444444\n"
          ]
        }
      ],
      "source": [
        "from sklearn.model_selection import RandomizedSearchCV\n",
        "from sklearn.svm import LinearSVC\n",
        "from sklearn.pipeline import Pipeline\n",
        "from sklearn.feature_extraction.text import CountVectorizer, TfidfTransformer\n",
        "\n",
        "# Define the hyperparameter grid for LinearSVC\n",
        "param_grid = {\n",
        "    'Linear SVC__C': [0.01, 0.1, 1.0, 10.0],  # C parameter for LinearSVC\n",
        "    'Linear SVC__penalty': ['l2'],            # Penalty type\n",
        "    'Linear SVC__dual': [False],              # Dual or primal formulation\n",
        "    'Linear SVC__max_iter': [200, 500, 1000]  # Maximum number of iterations\n",
        "}\n",
        "\n",
        "# Create the pipeline\n",
        "model_4 = Pipeline([\n",
        "    ('vect', CountVectorizer()),\n",
        "    ('tfidf', TfidfTransformer()),\n",
        "    ('Linear SVC', LinearSVC(random_state=42))\n",
        "])\n",
        "\n",
        "# Create a RandomizedSearchCV object\n",
        "random_search = RandomizedSearchCV(\n",
        "    model_4,\n",
        "    param_distributions=param_grid,\n",
        "    cv=5,                # Cross-validation strategy\n",
        "    scoring='accuracy', # Scoring metric\n",
        "    n_iter=10,           # Number of random combinations to try\n",
        "    random_state=42,\n",
        "    n_jobs=-1            # Use all available CPU cores\n",
        ")\n",
        "\n",
        "# Fit the RandomizedSearchCV on your training data\n",
        "random_search.fit(train_sentences, train_labels)\n",
        "\n",
        "# Print the best hyperparameters and mean test score\n",
        "print(\"Best Hyperparameters:\")\n",
        "print(random_search.best_params_)\n",
        "print(\"Best Mean Test Score (Accuracy):\")\n",
        "print(random_search.best_score_)"
      ]
    },
    {
      "cell_type": "code",
      "execution_count": 41,
      "id": "332dc09f",
      "metadata": {
        "execution": {
          "iopub.execute_input": "2023-08-13T16:12:30.404978Z",
          "iopub.status.busy": "2023-08-13T16:12:30.404550Z",
          "iopub.status.idle": "2023-08-13T16:12:31.269948Z",
          "shell.execute_reply": "2023-08-13T16:12:31.268177Z"
        },
        "papermill": {
          "duration": 0.920753,
          "end_time": "2023-08-13T16:12:31.275064",
          "exception": false,
          "start_time": "2023-08-13T16:12:30.354311",
          "status": "completed"
        },
        "tags": [],
        "id": "332dc09f",
        "outputId": "679ba2db-5ab4-4ae4-fb70-9a4f0811b225",
        "colab": {
          "base_uri": "https://localhost:8080/",
          "height": 159
        }
      },
      "outputs": [
        {
          "output_type": "execute_result",
          "data": {
            "text/plain": [
              "Pipeline(steps=[('vect', CountVectorizer()), ('tfidf', TfidfTransformer()),\n",
              "                ('linear_svc', LinearSVC(dual=False, random_state=42))])"
            ],
            "text/html": [
              "<style>#sk-container-id-7 {color: black;background-color: white;}#sk-container-id-7 pre{padding: 0;}#sk-container-id-7 div.sk-toggleable {background-color: white;}#sk-container-id-7 label.sk-toggleable__label {cursor: pointer;display: block;width: 100%;margin-bottom: 0;padding: 0.3em;box-sizing: border-box;text-align: center;}#sk-container-id-7 label.sk-toggleable__label-arrow:before {content: \"▸\";float: left;margin-right: 0.25em;color: #696969;}#sk-container-id-7 label.sk-toggleable__label-arrow:hover:before {color: black;}#sk-container-id-7 div.sk-estimator:hover label.sk-toggleable__label-arrow:before {color: black;}#sk-container-id-7 div.sk-toggleable__content {max-height: 0;max-width: 0;overflow: hidden;text-align: left;background-color: #f0f8ff;}#sk-container-id-7 div.sk-toggleable__content pre {margin: 0.2em;color: black;border-radius: 0.25em;background-color: #f0f8ff;}#sk-container-id-7 input.sk-toggleable__control:checked~div.sk-toggleable__content {max-height: 200px;max-width: 100%;overflow: auto;}#sk-container-id-7 input.sk-toggleable__control:checked~label.sk-toggleable__label-arrow:before {content: \"▾\";}#sk-container-id-7 div.sk-estimator input.sk-toggleable__control:checked~label.sk-toggleable__label {background-color: #d4ebff;}#sk-container-id-7 div.sk-label input.sk-toggleable__control:checked~label.sk-toggleable__label {background-color: #d4ebff;}#sk-container-id-7 input.sk-hidden--visually {border: 0;clip: rect(1px 1px 1px 1px);clip: rect(1px, 1px, 1px, 1px);height: 1px;margin: -1px;overflow: hidden;padding: 0;position: absolute;width: 1px;}#sk-container-id-7 div.sk-estimator {font-family: monospace;background-color: #f0f8ff;border: 1px dotted black;border-radius: 0.25em;box-sizing: border-box;margin-bottom: 0.5em;}#sk-container-id-7 div.sk-estimator:hover {background-color: #d4ebff;}#sk-container-id-7 div.sk-parallel-item::after {content: \"\";width: 100%;border-bottom: 1px solid gray;flex-grow: 1;}#sk-container-id-7 div.sk-label:hover label.sk-toggleable__label {background-color: #d4ebff;}#sk-container-id-7 div.sk-serial::before {content: \"\";position: absolute;border-left: 1px solid gray;box-sizing: border-box;top: 0;bottom: 0;left: 50%;z-index: 0;}#sk-container-id-7 div.sk-serial {display: flex;flex-direction: column;align-items: center;background-color: white;padding-right: 0.2em;padding-left: 0.2em;position: relative;}#sk-container-id-7 div.sk-item {position: relative;z-index: 1;}#sk-container-id-7 div.sk-parallel {display: flex;align-items: stretch;justify-content: center;background-color: white;position: relative;}#sk-container-id-7 div.sk-item::before, #sk-container-id-7 div.sk-parallel-item::before {content: \"\";position: absolute;border-left: 1px solid gray;box-sizing: border-box;top: 0;bottom: 0;left: 50%;z-index: -1;}#sk-container-id-7 div.sk-parallel-item {display: flex;flex-direction: column;z-index: 1;position: relative;background-color: white;}#sk-container-id-7 div.sk-parallel-item:first-child::after {align-self: flex-end;width: 50%;}#sk-container-id-7 div.sk-parallel-item:last-child::after {align-self: flex-start;width: 50%;}#sk-container-id-7 div.sk-parallel-item:only-child::after {width: 0;}#sk-container-id-7 div.sk-dashed-wrapped {border: 1px dashed gray;margin: 0 0.4em 0.5em 0.4em;box-sizing: border-box;padding-bottom: 0.4em;background-color: white;}#sk-container-id-7 div.sk-label label {font-family: monospace;font-weight: bold;display: inline-block;line-height: 1.2em;}#sk-container-id-7 div.sk-label-container {text-align: center;}#sk-container-id-7 div.sk-container {/* jupyter's `normalize.less` sets `[hidden] { display: none; }` but bootstrap.min.css set `[hidden] { display: none !important; }` so we also need the `!important` here to be able to override the default hidden behavior on the sphinx rendered scikit-learn.org. See: https://github.com/scikit-learn/scikit-learn/issues/21755 */display: inline-block !important;position: relative;}#sk-container-id-7 div.sk-text-repr-fallback {display: none;}</style><div id=\"sk-container-id-7\" class=\"sk-top-container\"><div class=\"sk-text-repr-fallback\"><pre>Pipeline(steps=[(&#x27;vect&#x27;, CountVectorizer()), (&#x27;tfidf&#x27;, TfidfTransformer()),\n",
              "                (&#x27;linear_svc&#x27;, LinearSVC(dual=False, random_state=42))])</pre><b>In a Jupyter environment, please rerun this cell to show the HTML representation or trust the notebook. <br />On GitHub, the HTML representation is unable to render, please try loading this page with nbviewer.org.</b></div><div class=\"sk-container\" hidden><div class=\"sk-item sk-dashed-wrapped\"><div class=\"sk-label-container\"><div class=\"sk-label sk-toggleable\"><input class=\"sk-toggleable__control sk-hidden--visually\" id=\"sk-estimator-id-27\" type=\"checkbox\" ><label for=\"sk-estimator-id-27\" class=\"sk-toggleable__label sk-toggleable__label-arrow\">Pipeline</label><div class=\"sk-toggleable__content\"><pre>Pipeline(steps=[(&#x27;vect&#x27;, CountVectorizer()), (&#x27;tfidf&#x27;, TfidfTransformer()),\n",
              "                (&#x27;linear_svc&#x27;, LinearSVC(dual=False, random_state=42))])</pre></div></div></div><div class=\"sk-serial\"><div class=\"sk-item\"><div class=\"sk-estimator sk-toggleable\"><input class=\"sk-toggleable__control sk-hidden--visually\" id=\"sk-estimator-id-28\" type=\"checkbox\" ><label for=\"sk-estimator-id-28\" class=\"sk-toggleable__label sk-toggleable__label-arrow\">CountVectorizer</label><div class=\"sk-toggleable__content\"><pre>CountVectorizer()</pre></div></div></div><div class=\"sk-item\"><div class=\"sk-estimator sk-toggleable\"><input class=\"sk-toggleable__control sk-hidden--visually\" id=\"sk-estimator-id-29\" type=\"checkbox\" ><label for=\"sk-estimator-id-29\" class=\"sk-toggleable__label sk-toggleable__label-arrow\">TfidfTransformer</label><div class=\"sk-toggleable__content\"><pre>TfidfTransformer()</pre></div></div></div><div class=\"sk-item\"><div class=\"sk-estimator sk-toggleable\"><input class=\"sk-toggleable__control sk-hidden--visually\" id=\"sk-estimator-id-30\" type=\"checkbox\" ><label for=\"sk-estimator-id-30\" class=\"sk-toggleable__label sk-toggleable__label-arrow\">LinearSVC</label><div class=\"sk-toggleable__content\"><pre>LinearSVC(dual=False, random_state=42)</pre></div></div></div></div></div></div></div>"
            ]
          },
          "metadata": {},
          "execution_count": 41
        }
      ],
      "source": [
        "# Get the best hyperparameters from the GridSearchCV output\n",
        "linear_svc_best_params = random_search.best_params_\n",
        "\n",
        "# Extract only the LinearSVC hyperparameters without the prefix\n",
        "linear_svc_best_params = {key.replace('Linear SVC__', ''): value for key, value in linear_svc_best_params.items() if key.startswith('Linear SVC__')}\n",
        "\n",
        "# Create a new instance of the LinearSVC model with the best hyperparameters\n",
        "best_linear_svc = LinearSVC(**linear_svc_best_params, random_state=42)\n",
        "\n",
        "# Create the pipeline using CountVectorizer, TfidfTransformer, and the best LinearSVC\n",
        "model_4 = Pipeline([\n",
        "    ('vect', CountVectorizer()),\n",
        "    ('tfidf', TfidfTransformer()),\n",
        "    ('linear_svc', best_linear_svc)\n",
        "])\n",
        "\n",
        "# Fit the new model on your complete training dataset\n",
        "model_4.fit(train_sentences, train_labels)"
      ]
    },
    {
      "cell_type": "code",
      "execution_count": 42,
      "id": "6d63b824",
      "metadata": {
        "execution": {
          "iopub.execute_input": "2023-08-13T16:12:31.377147Z",
          "iopub.status.busy": "2023-08-13T16:12:31.376738Z",
          "iopub.status.idle": "2023-08-13T16:12:31.441254Z",
          "shell.execute_reply": "2023-08-13T16:12:31.440112Z"
        },
        "id": "6d63b824",
        "outputId": "980114f7-a9c8-444b-b70e-67faa828381a",
        "papermill": {
          "duration": 0.10732,
          "end_time": "2023-08-13T16:12:31.443694",
          "exception": false,
          "start_time": "2023-08-13T16:12:31.336374",
          "status": "completed"
        },
        "tags": [],
        "colab": {
          "base_uri": "https://localhost:8080/"
        }
      },
      "outputs": [
        {
          "output_type": "execute_result",
          "data": {
            "text/plain": [
              "0.90025"
            ]
          },
          "metadata": {},
          "execution_count": 42
        }
      ],
      "source": [
        "model_4_score=model_4.score(val_sentences,val_labels)\n",
        "model_4_score"
      ]
    },
    {
      "cell_type": "code",
      "execution_count": 43,
      "id": "0d6b838d",
      "metadata": {
        "execution": {
          "iopub.execute_input": "2023-08-13T16:12:31.504894Z",
          "iopub.status.busy": "2023-08-13T16:12:31.504531Z",
          "iopub.status.idle": "2023-08-13T16:12:31.568962Z",
          "shell.execute_reply": "2023-08-13T16:12:31.567778Z"
        },
        "id": "0d6b838d",
        "outputId": "d8de8b30-2476-4e0c-f020-5437c4601f65",
        "papermill": {
          "duration": 0.098207,
          "end_time": "2023-08-13T16:12:31.571433",
          "exception": false,
          "start_time": "2023-08-13T16:12:31.473226",
          "status": "completed"
        },
        "tags": [],
        "colab": {
          "base_uri": "https://localhost:8080/"
        }
      },
      "outputs": [
        {
          "output_type": "execute_result",
          "data": {
            "text/plain": [
              "array([1, 0, 0, 0, 0, 0, 0, 0, 1, 0, 0, 1, 0, 0, 1, 0, 0, 0, 0, 1])"
            ]
          },
          "metadata": {},
          "execution_count": 43
        }
      ],
      "source": [
        "model_4_preds=model_4.predict(val_sentences)\n",
        "model_4_preds[:20]"
      ]
    },
    {
      "cell_type": "code",
      "execution_count": 44,
      "id": "e3f607dc",
      "metadata": {
        "execution": {
          "iopub.execute_input": "2023-08-13T16:12:31.632566Z",
          "iopub.status.busy": "2023-08-13T16:12:31.631874Z",
          "iopub.status.idle": "2023-08-13T16:12:31.641228Z",
          "shell.execute_reply": "2023-08-13T16:12:31.640155Z"
        },
        "id": "e3f607dc",
        "outputId": "11c41128-49c6-4cd7-da74-a784f75372f6",
        "papermill": {
          "duration": 0.042723,
          "end_time": "2023-08-13T16:12:31.643521",
          "exception": false,
          "start_time": "2023-08-13T16:12:31.600798",
          "status": "completed"
        },
        "tags": [],
        "colab": {
          "base_uri": "https://localhost:8080/"
        }
      },
      "outputs": [
        {
          "output_type": "execute_result",
          "data": {
            "text/plain": [
              "{'accuracy': 0.90025,\n",
              " 'precision': 0.9002725647765828,\n",
              " 'recall': 0.90025,\n",
              " 'f1': 0.9002450180465539}"
            ]
          },
          "metadata": {},
          "execution_count": 44
        }
      ],
      "source": [
        "model_4_results=calculate_results(val_labels,model_4_preds)\n",
        "model_4_results"
      ]
    },
    {
      "cell_type": "markdown",
      "id": "e73420c6",
      "metadata": {
        "id": "e73420c6",
        "papermill": {
          "duration": 0.029348,
          "end_time": "2023-08-13T16:12:31.702951",
          "exception": false,
          "start_time": "2023-08-13T16:12:31.673603",
          "status": "completed"
        },
        "tags": []
      },
      "source": [
        "#We will now take a look at using Random forest Classifer as the sixth model in our study"
      ]
    },
    {
      "cell_type": "code",
      "execution_count": 31,
      "id": "0d6a3da5",
      "metadata": {
        "execution": {
          "iopub.execute_input": "2023-08-13T16:12:31.764009Z",
          "iopub.status.busy": "2023-08-13T16:12:31.763581Z",
          "iopub.status.idle": "2023-08-13T16:18:26.221627Z",
          "shell.execute_reply": "2023-08-13T16:18:26.220295Z"
        },
        "id": "0d6a3da5",
        "outputId": "b91e4658-5bd0-43f4-8357-75d43c8da36b",
        "papermill": {
          "duration": 354.523379,
          "end_time": "2023-08-13T16:18:26.255505",
          "exception": false,
          "start_time": "2023-08-13T16:12:31.732126",
          "status": "completed"
        },
        "tags": [],
        "colab": {
          "base_uri": "https://localhost:8080/",
          "height": 159
        }
      },
      "outputs": [
        {
          "output_type": "execute_result",
          "data": {
            "text/plain": [
              "Pipeline(steps=[('vect', CountVectorizer()), ('tfidf', TfidfTransformer()),\n",
              "                ('rf', RandomForestClassifier(random_state=42))])"
            ],
            "text/html": [
              "<style>#sk-container-id-5 {color: black;background-color: white;}#sk-container-id-5 pre{padding: 0;}#sk-container-id-5 div.sk-toggleable {background-color: white;}#sk-container-id-5 label.sk-toggleable__label {cursor: pointer;display: block;width: 100%;margin-bottom: 0;padding: 0.3em;box-sizing: border-box;text-align: center;}#sk-container-id-5 label.sk-toggleable__label-arrow:before {content: \"▸\";float: left;margin-right: 0.25em;color: #696969;}#sk-container-id-5 label.sk-toggleable__label-arrow:hover:before {color: black;}#sk-container-id-5 div.sk-estimator:hover label.sk-toggleable__label-arrow:before {color: black;}#sk-container-id-5 div.sk-toggleable__content {max-height: 0;max-width: 0;overflow: hidden;text-align: left;background-color: #f0f8ff;}#sk-container-id-5 div.sk-toggleable__content pre {margin: 0.2em;color: black;border-radius: 0.25em;background-color: #f0f8ff;}#sk-container-id-5 input.sk-toggleable__control:checked~div.sk-toggleable__content {max-height: 200px;max-width: 100%;overflow: auto;}#sk-container-id-5 input.sk-toggleable__control:checked~label.sk-toggleable__label-arrow:before {content: \"▾\";}#sk-container-id-5 div.sk-estimator input.sk-toggleable__control:checked~label.sk-toggleable__label {background-color: #d4ebff;}#sk-container-id-5 div.sk-label input.sk-toggleable__control:checked~label.sk-toggleable__label {background-color: #d4ebff;}#sk-container-id-5 input.sk-hidden--visually {border: 0;clip: rect(1px 1px 1px 1px);clip: rect(1px, 1px, 1px, 1px);height: 1px;margin: -1px;overflow: hidden;padding: 0;position: absolute;width: 1px;}#sk-container-id-5 div.sk-estimator {font-family: monospace;background-color: #f0f8ff;border: 1px dotted black;border-radius: 0.25em;box-sizing: border-box;margin-bottom: 0.5em;}#sk-container-id-5 div.sk-estimator:hover {background-color: #d4ebff;}#sk-container-id-5 div.sk-parallel-item::after {content: \"\";width: 100%;border-bottom: 1px solid gray;flex-grow: 1;}#sk-container-id-5 div.sk-label:hover label.sk-toggleable__label {background-color: #d4ebff;}#sk-container-id-5 div.sk-serial::before {content: \"\";position: absolute;border-left: 1px solid gray;box-sizing: border-box;top: 0;bottom: 0;left: 50%;z-index: 0;}#sk-container-id-5 div.sk-serial {display: flex;flex-direction: column;align-items: center;background-color: white;padding-right: 0.2em;padding-left: 0.2em;position: relative;}#sk-container-id-5 div.sk-item {position: relative;z-index: 1;}#sk-container-id-5 div.sk-parallel {display: flex;align-items: stretch;justify-content: center;background-color: white;position: relative;}#sk-container-id-5 div.sk-item::before, #sk-container-id-5 div.sk-parallel-item::before {content: \"\";position: absolute;border-left: 1px solid gray;box-sizing: border-box;top: 0;bottom: 0;left: 50%;z-index: -1;}#sk-container-id-5 div.sk-parallel-item {display: flex;flex-direction: column;z-index: 1;position: relative;background-color: white;}#sk-container-id-5 div.sk-parallel-item:first-child::after {align-self: flex-end;width: 50%;}#sk-container-id-5 div.sk-parallel-item:last-child::after {align-self: flex-start;width: 50%;}#sk-container-id-5 div.sk-parallel-item:only-child::after {width: 0;}#sk-container-id-5 div.sk-dashed-wrapped {border: 1px dashed gray;margin: 0 0.4em 0.5em 0.4em;box-sizing: border-box;padding-bottom: 0.4em;background-color: white;}#sk-container-id-5 div.sk-label label {font-family: monospace;font-weight: bold;display: inline-block;line-height: 1.2em;}#sk-container-id-5 div.sk-label-container {text-align: center;}#sk-container-id-5 div.sk-container {/* jupyter's `normalize.less` sets `[hidden] { display: none; }` but bootstrap.min.css set `[hidden] { display: none !important; }` so we also need the `!important` here to be able to override the default hidden behavior on the sphinx rendered scikit-learn.org. See: https://github.com/scikit-learn/scikit-learn/issues/21755 */display: inline-block !important;position: relative;}#sk-container-id-5 div.sk-text-repr-fallback {display: none;}</style><div id=\"sk-container-id-5\" class=\"sk-top-container\"><div class=\"sk-text-repr-fallback\"><pre>Pipeline(steps=[(&#x27;vect&#x27;, CountVectorizer()), (&#x27;tfidf&#x27;, TfidfTransformer()),\n",
              "                (&#x27;rf&#x27;, RandomForestClassifier(random_state=42))])</pre><b>In a Jupyter environment, please rerun this cell to show the HTML representation or trust the notebook. <br />On GitHub, the HTML representation is unable to render, please try loading this page with nbviewer.org.</b></div><div class=\"sk-container\" hidden><div class=\"sk-item sk-dashed-wrapped\"><div class=\"sk-label-container\"><div class=\"sk-label sk-toggleable\"><input class=\"sk-toggleable__control sk-hidden--visually\" id=\"sk-estimator-id-19\" type=\"checkbox\" ><label for=\"sk-estimator-id-19\" class=\"sk-toggleable__label sk-toggleable__label-arrow\">Pipeline</label><div class=\"sk-toggleable__content\"><pre>Pipeline(steps=[(&#x27;vect&#x27;, CountVectorizer()), (&#x27;tfidf&#x27;, TfidfTransformer()),\n",
              "                (&#x27;rf&#x27;, RandomForestClassifier(random_state=42))])</pre></div></div></div><div class=\"sk-serial\"><div class=\"sk-item\"><div class=\"sk-estimator sk-toggleable\"><input class=\"sk-toggleable__control sk-hidden--visually\" id=\"sk-estimator-id-20\" type=\"checkbox\" ><label for=\"sk-estimator-id-20\" class=\"sk-toggleable__label sk-toggleable__label-arrow\">CountVectorizer</label><div class=\"sk-toggleable__content\"><pre>CountVectorizer()</pre></div></div></div><div class=\"sk-item\"><div class=\"sk-estimator sk-toggleable\"><input class=\"sk-toggleable__control sk-hidden--visually\" id=\"sk-estimator-id-21\" type=\"checkbox\" ><label for=\"sk-estimator-id-21\" class=\"sk-toggleable__label sk-toggleable__label-arrow\">TfidfTransformer</label><div class=\"sk-toggleable__content\"><pre>TfidfTransformer()</pre></div></div></div><div class=\"sk-item\"><div class=\"sk-estimator sk-toggleable\"><input class=\"sk-toggleable__control sk-hidden--visually\" id=\"sk-estimator-id-22\" type=\"checkbox\" ><label for=\"sk-estimator-id-22\" class=\"sk-toggleable__label sk-toggleable__label-arrow\">RandomForestClassifier</label><div class=\"sk-toggleable__content\"><pre>RandomForestClassifier(random_state=42)</pre></div></div></div></div></div></div></div>"
            ]
          },
          "metadata": {},
          "execution_count": 31
        }
      ],
      "source": [
        "from sklearn.model_selection import GridSearchCV\n",
        "from sklearn.ensemble import RandomForestClassifier\n",
        "from sklearn.pipeline import Pipeline\n",
        "from sklearn.feature_extraction.text import CountVectorizer, TfidfTransformer\n",
        "\n",
        "# Define the pipeline\n",
        "model_5 = Pipeline([\n",
        "    ('vect', CountVectorizer()),\n",
        "    ('tfidf', TfidfTransformer()),\n",
        "    ('rf', RandomForestClassifier(random_state=42)),\n",
        "])\n",
        "\n",
        "model_5.fit(train_sentences, train_labels)"
      ]
    },
    {
      "cell_type": "code",
      "execution_count": 32,
      "id": "33bcd1cd",
      "metadata": {
        "execution": {
          "iopub.execute_input": "2023-08-13T16:18:34.542835Z",
          "iopub.status.busy": "2023-08-13T16:18:34.542360Z",
          "iopub.status.idle": "2023-08-13T16:18:34.733138Z",
          "shell.execute_reply": "2023-08-13T16:18:34.731962Z"
        },
        "id": "33bcd1cd",
        "outputId": "7297b9e1-060e-4381-9063-e429310354fb",
        "papermill": {
          "duration": 0.225905,
          "end_time": "2023-08-13T16:18:34.735735",
          "exception": false,
          "start_time": "2023-08-13T16:18:34.509830",
          "status": "completed"
        },
        "tags": [],
        "colab": {
          "base_uri": "https://localhost:8080/"
        }
      },
      "outputs": [
        {
          "output_type": "execute_result",
          "data": {
            "text/plain": [
              "0.83725"
            ]
          },
          "metadata": {},
          "execution_count": 32
        }
      ],
      "source": [
        "model_5_results=model_5.score(val_sentences,val_labels)\n",
        "model_5_results"
      ]
    },
    {
      "cell_type": "code",
      "execution_count": 33,
      "id": "036f96ea",
      "metadata": {
        "execution": {
          "iopub.execute_input": "2023-08-13T16:18:34.797654Z",
          "iopub.status.busy": "2023-08-13T16:18:34.797269Z",
          "iopub.status.idle": "2023-08-13T16:18:34.980367Z",
          "shell.execute_reply": "2023-08-13T16:18:34.979527Z"
        },
        "id": "036f96ea",
        "outputId": "3abfd33e-c0ce-45fb-b243-c55179abd242",
        "papermill": {
          "duration": 0.216985,
          "end_time": "2023-08-13T16:18:34.982677",
          "exception": false,
          "start_time": "2023-08-13T16:18:34.765692",
          "status": "completed"
        },
        "tags": [],
        "colab": {
          "base_uri": "https://localhost:8080/"
        }
      },
      "outputs": [
        {
          "output_type": "execute_result",
          "data": {
            "text/plain": [
              "array([1, 0, 0, 1, 0, 0, 0, 0, 1, 1, 0, 1, 0, 0, 1, 0, 0, 0, 1, 0])"
            ]
          },
          "metadata": {},
          "execution_count": 33
        }
      ],
      "source": [
        "model_5_preds=model_5.predict(val_sentences)\n",
        "model_5_preds[:20]"
      ]
    },
    {
      "cell_type": "code",
      "execution_count": 34,
      "id": "7506a5c3",
      "metadata": {
        "execution": {
          "iopub.execute_input": "2023-08-13T16:18:35.047778Z",
          "iopub.status.busy": "2023-08-13T16:18:35.047360Z",
          "iopub.status.idle": "2023-08-13T16:18:35.059268Z",
          "shell.execute_reply": "2023-08-13T16:18:35.058263Z"
        },
        "id": "7506a5c3",
        "outputId": "ad326e19-0f3c-498d-c34f-5751abab88c1",
        "papermill": {
          "duration": 0.048677,
          "end_time": "2023-08-13T16:18:35.061385",
          "exception": false,
          "start_time": "2023-08-13T16:18:35.012708",
          "status": "completed"
        },
        "tags": [],
        "colab": {
          "base_uri": "https://localhost:8080/"
        }
      },
      "outputs": [
        {
          "output_type": "execute_result",
          "data": {
            "text/plain": [
              "{'accuracy': 0.83725,\n",
              " 'precision': 0.8372623222359001,\n",
              " 'recall': 0.83725,\n",
              " 'f1': 0.8372519225373649}"
            ]
          },
          "metadata": {},
          "execution_count": 34
        }
      ],
      "source": [
        "model_5_results=calculate_results(val_labels,model_5_preds)\n",
        "model_5_results"
      ]
    },
    {
      "cell_type": "markdown",
      "id": "49da2fef",
      "metadata": {
        "id": "49da2fef",
        "papermill": {
          "duration": 0.030156,
          "end_time": "2023-08-13T16:18:41.394781",
          "exception": false,
          "start_time": "2023-08-13T16:18:41.364625",
          "status": "completed"
        },
        "tags": []
      },
      "source": [
        "#The last and final Model is the SGD(Stochastic Gradient Descent) Model for classification"
      ]
    },
    {
      "cell_type": "code",
      "execution_count": 35,
      "id": "0f2f7483",
      "metadata": {
        "execution": {
          "iopub.execute_input": "2023-08-13T16:18:41.458332Z",
          "iopub.status.busy": "2023-08-13T16:18:41.457699Z",
          "iopub.status.idle": "2023-08-13T16:19:39.683224Z",
          "shell.execute_reply": "2023-08-13T16:19:39.681714Z"
        },
        "id": "0f2f7483",
        "outputId": "c0fceb8e-18d6-4d99-d6f3-e5e818f2e8b6",
        "papermill": {
          "duration": 58.298767,
          "end_time": "2023-08-13T16:19:39.724205",
          "exception": false,
          "start_time": "2023-08-13T16:18:41.425438",
          "status": "completed"
        },
        "tags": [],
        "colab": {
          "base_uri": "https://localhost:8080/"
        }
      },
      "outputs": [
        {
          "output_type": "stream",
          "name": "stdout",
          "text": [
            "Best Hyperparameters:\n",
            "{'sgdclassifier__alpha': 0.0001, 'sgdclassifier__loss': 'modified_huber', 'sgdclassifier__penalty': 'l2'}\n",
            "Best Mean Test Score (Accuracy):\n",
            "0.8999722222222222\n"
          ]
        }
      ],
      "source": [
        "from sklearn.pipeline import Pipeline\n",
        "from sklearn.feature_extraction.text import CountVectorizer, TfidfTransformer\n",
        "from sklearn.linear_model import SGDClassifier\n",
        "from sklearn.model_selection import GridSearchCV\n",
        "import numpy as np\n",
        "\n",
        "# Define the pipeline for SGDClassifier\n",
        "model_6 = Pipeline([\n",
        "    ('vect', CountVectorizer()),\n",
        "    ('tfidf', TfidfTransformer()),\n",
        "    ('sgdclassifier', SGDClassifier())\n",
        "])\n",
        "\n",
        "# Hyperparameter tuning using GridSearchCV\n",
        "param_grid = {\n",
        "    'sgdclassifier__alpha': [0.0001, 0.001, 0.01],\n",
        "    'sgdclassifier__penalty': ['l2', 'l1'],\n",
        "    'sgdclassifier__loss': ['hinge', 'log_loss', 'modified_huber']\n",
        "}\n",
        "\n",
        "grid_search_sgd = GridSearchCV(model_6, param_grid, cv=5, scoring='accuracy')\n",
        "grid_search_sgd.fit(train_sentences, train_labels)\n",
        "\n",
        "print(\"Best Hyperparameters:\")\n",
        "print(grid_search_sgd.best_params_)\n",
        "print(\"Best Mean Test Score (Accuracy):\")\n",
        "print(grid_search_sgd.best_score_)"
      ]
    },
    {
      "cell_type": "code",
      "execution_count": 36,
      "id": "bce5d86f",
      "metadata": {
        "execution": {
          "iopub.execute_input": "2023-08-13T16:19:39.788507Z",
          "iopub.status.busy": "2023-08-13T16:19:39.788105Z",
          "iopub.status.idle": "2023-08-13T16:19:40.463099Z",
          "shell.execute_reply": "2023-08-13T16:19:40.462060Z"
        },
        "papermill": {
          "duration": 0.709524,
          "end_time": "2023-08-13T16:19:40.465428",
          "exception": false,
          "start_time": "2023-08-13T16:19:39.755904",
          "status": "completed"
        },
        "tags": [],
        "id": "bce5d86f",
        "outputId": "27f720b2-738c-4518-fd46-9cd982d38f99",
        "colab": {
          "base_uri": "https://localhost:8080/",
          "height": 159
        }
      },
      "outputs": [
        {
          "output_type": "execute_result",
          "data": {
            "text/plain": [
              "Pipeline(steps=[('vect', CountVectorizer()), ('tfidf', TfidfTransformer()),\n",
              "                ('sgdclassifier',\n",
              "                 SGDClassifier(loss='modified_huber', random_state=42))])"
            ],
            "text/html": [
              "<style>#sk-container-id-6 {color: black;background-color: white;}#sk-container-id-6 pre{padding: 0;}#sk-container-id-6 div.sk-toggleable {background-color: white;}#sk-container-id-6 label.sk-toggleable__label {cursor: pointer;display: block;width: 100%;margin-bottom: 0;padding: 0.3em;box-sizing: border-box;text-align: center;}#sk-container-id-6 label.sk-toggleable__label-arrow:before {content: \"▸\";float: left;margin-right: 0.25em;color: #696969;}#sk-container-id-6 label.sk-toggleable__label-arrow:hover:before {color: black;}#sk-container-id-6 div.sk-estimator:hover label.sk-toggleable__label-arrow:before {color: black;}#sk-container-id-6 div.sk-toggleable__content {max-height: 0;max-width: 0;overflow: hidden;text-align: left;background-color: #f0f8ff;}#sk-container-id-6 div.sk-toggleable__content pre {margin: 0.2em;color: black;border-radius: 0.25em;background-color: #f0f8ff;}#sk-container-id-6 input.sk-toggleable__control:checked~div.sk-toggleable__content {max-height: 200px;max-width: 100%;overflow: auto;}#sk-container-id-6 input.sk-toggleable__control:checked~label.sk-toggleable__label-arrow:before {content: \"▾\";}#sk-container-id-6 div.sk-estimator input.sk-toggleable__control:checked~label.sk-toggleable__label {background-color: #d4ebff;}#sk-container-id-6 div.sk-label input.sk-toggleable__control:checked~label.sk-toggleable__label {background-color: #d4ebff;}#sk-container-id-6 input.sk-hidden--visually {border: 0;clip: rect(1px 1px 1px 1px);clip: rect(1px, 1px, 1px, 1px);height: 1px;margin: -1px;overflow: hidden;padding: 0;position: absolute;width: 1px;}#sk-container-id-6 div.sk-estimator {font-family: monospace;background-color: #f0f8ff;border: 1px dotted black;border-radius: 0.25em;box-sizing: border-box;margin-bottom: 0.5em;}#sk-container-id-6 div.sk-estimator:hover {background-color: #d4ebff;}#sk-container-id-6 div.sk-parallel-item::after {content: \"\";width: 100%;border-bottom: 1px solid gray;flex-grow: 1;}#sk-container-id-6 div.sk-label:hover label.sk-toggleable__label {background-color: #d4ebff;}#sk-container-id-6 div.sk-serial::before {content: \"\";position: absolute;border-left: 1px solid gray;box-sizing: border-box;top: 0;bottom: 0;left: 50%;z-index: 0;}#sk-container-id-6 div.sk-serial {display: flex;flex-direction: column;align-items: center;background-color: white;padding-right: 0.2em;padding-left: 0.2em;position: relative;}#sk-container-id-6 div.sk-item {position: relative;z-index: 1;}#sk-container-id-6 div.sk-parallel {display: flex;align-items: stretch;justify-content: center;background-color: white;position: relative;}#sk-container-id-6 div.sk-item::before, #sk-container-id-6 div.sk-parallel-item::before {content: \"\";position: absolute;border-left: 1px solid gray;box-sizing: border-box;top: 0;bottom: 0;left: 50%;z-index: -1;}#sk-container-id-6 div.sk-parallel-item {display: flex;flex-direction: column;z-index: 1;position: relative;background-color: white;}#sk-container-id-6 div.sk-parallel-item:first-child::after {align-self: flex-end;width: 50%;}#sk-container-id-6 div.sk-parallel-item:last-child::after {align-self: flex-start;width: 50%;}#sk-container-id-6 div.sk-parallel-item:only-child::after {width: 0;}#sk-container-id-6 div.sk-dashed-wrapped {border: 1px dashed gray;margin: 0 0.4em 0.5em 0.4em;box-sizing: border-box;padding-bottom: 0.4em;background-color: white;}#sk-container-id-6 div.sk-label label {font-family: monospace;font-weight: bold;display: inline-block;line-height: 1.2em;}#sk-container-id-6 div.sk-label-container {text-align: center;}#sk-container-id-6 div.sk-container {/* jupyter's `normalize.less` sets `[hidden] { display: none; }` but bootstrap.min.css set `[hidden] { display: none !important; }` so we also need the `!important` here to be able to override the default hidden behavior on the sphinx rendered scikit-learn.org. See: https://github.com/scikit-learn/scikit-learn/issues/21755 */display: inline-block !important;position: relative;}#sk-container-id-6 div.sk-text-repr-fallback {display: none;}</style><div id=\"sk-container-id-6\" class=\"sk-top-container\"><div class=\"sk-text-repr-fallback\"><pre>Pipeline(steps=[(&#x27;vect&#x27;, CountVectorizer()), (&#x27;tfidf&#x27;, TfidfTransformer()),\n",
              "                (&#x27;sgdclassifier&#x27;,\n",
              "                 SGDClassifier(loss=&#x27;modified_huber&#x27;, random_state=42))])</pre><b>In a Jupyter environment, please rerun this cell to show the HTML representation or trust the notebook. <br />On GitHub, the HTML representation is unable to render, please try loading this page with nbviewer.org.</b></div><div class=\"sk-container\" hidden><div class=\"sk-item sk-dashed-wrapped\"><div class=\"sk-label-container\"><div class=\"sk-label sk-toggleable\"><input class=\"sk-toggleable__control sk-hidden--visually\" id=\"sk-estimator-id-23\" type=\"checkbox\" ><label for=\"sk-estimator-id-23\" class=\"sk-toggleable__label sk-toggleable__label-arrow\">Pipeline</label><div class=\"sk-toggleable__content\"><pre>Pipeline(steps=[(&#x27;vect&#x27;, CountVectorizer()), (&#x27;tfidf&#x27;, TfidfTransformer()),\n",
              "                (&#x27;sgdclassifier&#x27;,\n",
              "                 SGDClassifier(loss=&#x27;modified_huber&#x27;, random_state=42))])</pre></div></div></div><div class=\"sk-serial\"><div class=\"sk-item\"><div class=\"sk-estimator sk-toggleable\"><input class=\"sk-toggleable__control sk-hidden--visually\" id=\"sk-estimator-id-24\" type=\"checkbox\" ><label for=\"sk-estimator-id-24\" class=\"sk-toggleable__label sk-toggleable__label-arrow\">CountVectorizer</label><div class=\"sk-toggleable__content\"><pre>CountVectorizer()</pre></div></div></div><div class=\"sk-item\"><div class=\"sk-estimator sk-toggleable\"><input class=\"sk-toggleable__control sk-hidden--visually\" id=\"sk-estimator-id-25\" type=\"checkbox\" ><label for=\"sk-estimator-id-25\" class=\"sk-toggleable__label sk-toggleable__label-arrow\">TfidfTransformer</label><div class=\"sk-toggleable__content\"><pre>TfidfTransformer()</pre></div></div></div><div class=\"sk-item\"><div class=\"sk-estimator sk-toggleable\"><input class=\"sk-toggleable__control sk-hidden--visually\" id=\"sk-estimator-id-26\" type=\"checkbox\" ><label for=\"sk-estimator-id-26\" class=\"sk-toggleable__label sk-toggleable__label-arrow\">SGDClassifier</label><div class=\"sk-toggleable__content\"><pre>SGDClassifier(loss=&#x27;modified_huber&#x27;, random_state=42)</pre></div></div></div></div></div></div></div>"
            ]
          },
          "metadata": {},
          "execution_count": 36
        }
      ],
      "source": [
        "# Get the best hyperparameters from the GridSearchCV output\n",
        "sgd_best_params = grid_search_sgd.best_params_\n",
        "\n",
        "# Extract only the LinearSVC hyperparameters without the prefix\n",
        "sgd_best_params = {key.replace('sgdclassifier__', ''): value for key, value in sgd_best_params.items() if key.startswith('sgdclassifier__')}\n",
        "\n",
        "# Create a new instance of the LinearSVC model with the best hyperparameters\n",
        "best_sgd = SGDClassifier(**sgd_best_params, random_state=42)\n",
        "\n",
        "# Create the pipeline using CountVectorizer, TfidfTransformer, and the best LinearSVC\n",
        "model_6 = Pipeline([\n",
        "    ('vect', CountVectorizer()),\n",
        "    ('tfidf', TfidfTransformer()),\n",
        "    ('sgdclassifier', best_sgd)\n",
        "])\n",
        "\n",
        "# Fit the new model on your complete training dataset\n",
        "model_6.fit(train_sentences, train_labels)"
      ]
    },
    {
      "cell_type": "code",
      "execution_count": 37,
      "id": "e2d06e79",
      "metadata": {
        "execution": {
          "iopub.execute_input": "2023-08-13T16:19:40.530162Z",
          "iopub.status.busy": "2023-08-13T16:19:40.529620Z",
          "iopub.status.idle": "2023-08-13T16:19:40.593751Z",
          "shell.execute_reply": "2023-08-13T16:19:40.592713Z"
        },
        "id": "e2d06e79",
        "outputId": "f2b76463-2dae-4d09-c1be-8e469e865329",
        "papermill": {
          "duration": 0.099355,
          "end_time": "2023-08-13T16:19:40.596444",
          "exception": false,
          "start_time": "2023-08-13T16:19:40.497089",
          "status": "completed"
        },
        "tags": [],
        "colab": {
          "base_uri": "https://localhost:8080/"
        }
      },
      "outputs": [
        {
          "output_type": "execute_result",
          "data": {
            "text/plain": [
              "0.90425"
            ]
          },
          "metadata": {},
          "execution_count": 37
        }
      ],
      "source": [
        "model_6_results=model_6.score(val_sentences,val_labels)\n",
        "model_6_results"
      ]
    },
    {
      "cell_type": "code",
      "execution_count": 38,
      "id": "2d33b090",
      "metadata": {
        "execution": {
          "iopub.execute_input": "2023-08-13T16:19:40.662421Z",
          "iopub.status.busy": "2023-08-13T16:19:40.661703Z",
          "iopub.status.idle": "2023-08-13T16:19:40.723636Z",
          "shell.execute_reply": "2023-08-13T16:19:40.722431Z"
        },
        "id": "2d33b090",
        "outputId": "a5114a56-19e6-4863-d958-6e112329ec38",
        "papermill": {
          "duration": 0.098177,
          "end_time": "2023-08-13T16:19:40.726414",
          "exception": false,
          "start_time": "2023-08-13T16:19:40.628237",
          "status": "completed"
        },
        "tags": [],
        "colab": {
          "base_uri": "https://localhost:8080/"
        }
      },
      "outputs": [
        {
          "output_type": "execute_result",
          "data": {
            "text/plain": [
              "array([1, 0, 0, 1, 0, 0, 0, 0, 1, 0, 0, 1, 0, 0, 1, 0, 0, 0, 0, 1])"
            ]
          },
          "metadata": {},
          "execution_count": 38
        }
      ],
      "source": [
        "model_6_preds=model_6.predict(val_sentences)\n",
        "model_6_preds[:20]"
      ]
    },
    {
      "cell_type": "code",
      "execution_count": 39,
      "id": "f3397978",
      "metadata": {
        "execution": {
          "iopub.execute_input": "2023-08-13T16:19:40.793378Z",
          "iopub.status.busy": "2023-08-13T16:19:40.792702Z",
          "iopub.status.idle": "2023-08-13T16:19:40.802673Z",
          "shell.execute_reply": "2023-08-13T16:19:40.801566Z"
        },
        "id": "f3397978",
        "outputId": "13a46f76-14b8-40a7-ffdb-12b69bec455b",
        "papermill": {
          "duration": 0.046203,
          "end_time": "2023-08-13T16:19:40.805080",
          "exception": false,
          "start_time": "2023-08-13T16:19:40.758877",
          "status": "completed"
        },
        "tags": [],
        "colab": {
          "base_uri": "https://localhost:8080/"
        }
      },
      "outputs": [
        {
          "output_type": "execute_result",
          "data": {
            "text/plain": [
              "{'accuracy': 0.90425,\n",
              " 'precision': 0.9043140081025732,\n",
              " 'recall': 0.90425,\n",
              " 'f1': 0.904240788176299}"
            ]
          },
          "metadata": {},
          "execution_count": 39
        }
      ],
      "source": [
        "model_6_results=calculate_results(val_labels,model_6_preds)\n",
        "model_6_results"
      ]
    },
    {
      "cell_type": "markdown",
      "id": "808742be",
      "metadata": {
        "id": "808742be",
        "papermill": {
          "duration": 0.031489,
          "end_time": "2023-08-13T16:19:40.867969",
          "exception": false,
          "start_time": "2023-08-13T16:19:40.836480",
          "status": "completed"
        },
        "tags": []
      },
      "source": [
        "#Compare performance of each of our models by combine model results into a dataframe"
      ]
    },
    {
      "cell_type": "code",
      "execution_count": 45,
      "id": "34fd7be0",
      "metadata": {
        "execution": {
          "iopub.execute_input": "2023-08-13T16:19:40.932609Z",
          "iopub.status.busy": "2023-08-13T16:19:40.931916Z",
          "iopub.status.idle": "2023-08-13T16:19:40.942337Z",
          "shell.execute_reply": "2023-08-13T16:19:40.941397Z"
        },
        "id": "34fd7be0",
        "papermill": {
          "duration": 0.045886,
          "end_time": "2023-08-13T16:19:40.945099",
          "exception": false,
          "start_time": "2023-08-13T16:19:40.899213",
          "status": "completed"
        },
        "tags": []
      },
      "outputs": [],
      "source": [
        "all_models_results=pd.DataFrame({\"1.Naive Bayes\":model_0_results,\n",
        "                                 \"2.Logistic Regression\":model_1_results,\n",
        "                                 \"3.MLP classifier\":model_2_results,\n",
        "                                 \"4.Gradient Booster\":model_3_results,\n",
        "                                 \"5.LinearSVC\":model_4_results,\n",
        "                                 \"6.RandomForest\":model_5_results,\n",
        "                                 \"7.Stochastic Gradient Descent\":model_6_results})\n",
        "all_models_results=all_models_results.transpose()"
      ]
    },
    {
      "cell_type": "markdown",
      "id": "fd4650f0",
      "metadata": {
        "id": "fd4650f0",
        "papermill": {
          "duration": 0.031437,
          "end_time": "2023-08-13T16:19:41.007741",
          "exception": false,
          "start_time": "2023-08-13T16:19:40.976304",
          "status": "completed"
        },
        "tags": []
      },
      "source": [
        "Tabular representation of ML models"
      ]
    },
    {
      "cell_type": "code",
      "execution_count": 46,
      "id": "6ddc2bea",
      "metadata": {
        "execution": {
          "iopub.execute_input": "2023-08-13T16:19:41.073339Z",
          "iopub.status.busy": "2023-08-13T16:19:41.072517Z",
          "iopub.status.idle": "2023-08-13T16:19:41.088660Z",
          "shell.execute_reply": "2023-08-13T16:19:41.087496Z"
        },
        "id": "6ddc2bea",
        "outputId": "f8d23cd2-7243-4e07-d654-204d043f7b2f",
        "papermill": {
          "duration": 0.051875,
          "end_time": "2023-08-13T16:19:41.090950",
          "exception": false,
          "start_time": "2023-08-13T16:19:41.039075",
          "status": "completed"
        },
        "tags": [],
        "colab": {
          "base_uri": "https://localhost:8080/",
          "height": 269
        }
      },
      "outputs": [
        {
          "output_type": "execute_result",
          "data": {
            "text/plain": [
              "                               accuracy  precision   recall        f1\n",
              "1.Naive Bayes                   0.85200   0.853012  0.85200  0.851929\n",
              "2.Logistic Regression           0.90250   0.902604  0.90250  0.902487\n",
              "3.MLP classifier                0.85550   0.856806  0.85550  0.855327\n",
              "4.Gradient Booster              0.82850   0.828858  0.82850  0.828425\n",
              "5.LinearSVC                     0.90025   0.900273  0.90025  0.900245\n",
              "6.RandomForest                  0.83725   0.837262  0.83725  0.837252\n",
              "7.Stochastic Gradient Descent   0.90425   0.904314  0.90425  0.904241"
            ],
            "text/html": [
              "\n",
              "\n",
              "  <div id=\"df-195c5c91-0335-43f0-8f39-0c3e2badd84f\">\n",
              "    <div class=\"colab-df-container\">\n",
              "      <div>\n",
              "<style scoped>\n",
              "    .dataframe tbody tr th:only-of-type {\n",
              "        vertical-align: middle;\n",
              "    }\n",
              "\n",
              "    .dataframe tbody tr th {\n",
              "        vertical-align: top;\n",
              "    }\n",
              "\n",
              "    .dataframe thead th {\n",
              "        text-align: right;\n",
              "    }\n",
              "</style>\n",
              "<table border=\"1\" class=\"dataframe\">\n",
              "  <thead>\n",
              "    <tr style=\"text-align: right;\">\n",
              "      <th></th>\n",
              "      <th>accuracy</th>\n",
              "      <th>precision</th>\n",
              "      <th>recall</th>\n",
              "      <th>f1</th>\n",
              "    </tr>\n",
              "  </thead>\n",
              "  <tbody>\n",
              "    <tr>\n",
              "      <th>1.Naive Bayes</th>\n",
              "      <td>0.85200</td>\n",
              "      <td>0.853012</td>\n",
              "      <td>0.85200</td>\n",
              "      <td>0.851929</td>\n",
              "    </tr>\n",
              "    <tr>\n",
              "      <th>2.Logistic Regression</th>\n",
              "      <td>0.90250</td>\n",
              "      <td>0.902604</td>\n",
              "      <td>0.90250</td>\n",
              "      <td>0.902487</td>\n",
              "    </tr>\n",
              "    <tr>\n",
              "      <th>3.MLP classifier</th>\n",
              "      <td>0.85550</td>\n",
              "      <td>0.856806</td>\n",
              "      <td>0.85550</td>\n",
              "      <td>0.855327</td>\n",
              "    </tr>\n",
              "    <tr>\n",
              "      <th>4.Gradient Booster</th>\n",
              "      <td>0.82850</td>\n",
              "      <td>0.828858</td>\n",
              "      <td>0.82850</td>\n",
              "      <td>0.828425</td>\n",
              "    </tr>\n",
              "    <tr>\n",
              "      <th>5.LinearSVC</th>\n",
              "      <td>0.90025</td>\n",
              "      <td>0.900273</td>\n",
              "      <td>0.90025</td>\n",
              "      <td>0.900245</td>\n",
              "    </tr>\n",
              "    <tr>\n",
              "      <th>6.RandomForest</th>\n",
              "      <td>0.83725</td>\n",
              "      <td>0.837262</td>\n",
              "      <td>0.83725</td>\n",
              "      <td>0.837252</td>\n",
              "    </tr>\n",
              "    <tr>\n",
              "      <th>7.Stochastic Gradient Descent</th>\n",
              "      <td>0.90425</td>\n",
              "      <td>0.904314</td>\n",
              "      <td>0.90425</td>\n",
              "      <td>0.904241</td>\n",
              "    </tr>\n",
              "  </tbody>\n",
              "</table>\n",
              "</div>\n",
              "      <button class=\"colab-df-convert\" onclick=\"convertToInteractive('df-195c5c91-0335-43f0-8f39-0c3e2badd84f')\"\n",
              "              title=\"Convert this dataframe to an interactive table.\"\n",
              "              style=\"display:none;\">\n",
              "\n",
              "  <svg xmlns=\"http://www.w3.org/2000/svg\" height=\"24px\"viewBox=\"0 0 24 24\"\n",
              "       width=\"24px\">\n",
              "    <path d=\"M0 0h24v24H0V0z\" fill=\"none\"/>\n",
              "    <path d=\"M18.56 5.44l.94 2.06.94-2.06 2.06-.94-2.06-.94-.94-2.06-.94 2.06-2.06.94zm-11 1L8.5 8.5l.94-2.06 2.06-.94-2.06-.94L8.5 2.5l-.94 2.06-2.06.94zm10 10l.94 2.06.94-2.06 2.06-.94-2.06-.94-.94-2.06-.94 2.06-2.06.94z\"/><path d=\"M17.41 7.96l-1.37-1.37c-.4-.4-.92-.59-1.43-.59-.52 0-1.04.2-1.43.59L10.3 9.45l-7.72 7.72c-.78.78-.78 2.05 0 2.83L4 21.41c.39.39.9.59 1.41.59.51 0 1.02-.2 1.41-.59l7.78-7.78 2.81-2.81c.8-.78.8-2.07 0-2.86zM5.41 20L4 18.59l7.72-7.72 1.47 1.35L5.41 20z\"/>\n",
              "  </svg>\n",
              "      </button>\n",
              "\n",
              "\n",
              "\n",
              "    <div id=\"df-71ff1082-8910-4a58-a975-ad565f2f9c97\">\n",
              "      <button class=\"colab-df-quickchart\" onclick=\"quickchart('df-71ff1082-8910-4a58-a975-ad565f2f9c97')\"\n",
              "              title=\"Suggest charts.\"\n",
              "              style=\"display:none;\">\n",
              "\n",
              "<svg xmlns=\"http://www.w3.org/2000/svg\" height=\"24px\"viewBox=\"0 0 24 24\"\n",
              "     width=\"24px\">\n",
              "    <g>\n",
              "        <path d=\"M19 3H5c-1.1 0-2 .9-2 2v14c0 1.1.9 2 2 2h14c1.1 0 2-.9 2-2V5c0-1.1-.9-2-2-2zM9 17H7v-7h2v7zm4 0h-2V7h2v10zm4 0h-2v-4h2v4z\"/>\n",
              "    </g>\n",
              "</svg>\n",
              "      </button>\n",
              "    </div>\n",
              "\n",
              "<style>\n",
              "  .colab-df-quickchart {\n",
              "    background-color: #E8F0FE;\n",
              "    border: none;\n",
              "    border-radius: 50%;\n",
              "    cursor: pointer;\n",
              "    display: none;\n",
              "    fill: #1967D2;\n",
              "    height: 32px;\n",
              "    padding: 0 0 0 0;\n",
              "    width: 32px;\n",
              "  }\n",
              "\n",
              "  .colab-df-quickchart:hover {\n",
              "    background-color: #E2EBFA;\n",
              "    box-shadow: 0px 1px 2px rgba(60, 64, 67, 0.3), 0px 1px 3px 1px rgba(60, 64, 67, 0.15);\n",
              "    fill: #174EA6;\n",
              "  }\n",
              "\n",
              "  [theme=dark] .colab-df-quickchart {\n",
              "    background-color: #3B4455;\n",
              "    fill: #D2E3FC;\n",
              "  }\n",
              "\n",
              "  [theme=dark] .colab-df-quickchart:hover {\n",
              "    background-color: #434B5C;\n",
              "    box-shadow: 0px 1px 3px 1px rgba(0, 0, 0, 0.15);\n",
              "    filter: drop-shadow(0px 1px 2px rgba(0, 0, 0, 0.3));\n",
              "    fill: #FFFFFF;\n",
              "  }\n",
              "</style>\n",
              "\n",
              "    <script>\n",
              "      async function quickchart(key) {\n",
              "        const containerElement = document.querySelector('#' + key);\n",
              "        const charts = await google.colab.kernel.invokeFunction(\n",
              "            'suggestCharts', [key], {});\n",
              "      }\n",
              "    </script>\n",
              "\n",
              "      <script>\n",
              "\n",
              "function displayQuickchartButton(domScope) {\n",
              "  let quickchartButtonEl =\n",
              "    domScope.querySelector('#df-71ff1082-8910-4a58-a975-ad565f2f9c97 button.colab-df-quickchart');\n",
              "  quickchartButtonEl.style.display =\n",
              "    google.colab.kernel.accessAllowed ? 'block' : 'none';\n",
              "}\n",
              "\n",
              "        displayQuickchartButton(document);\n",
              "      </script>\n",
              "      <style>\n",
              "    .colab-df-container {\n",
              "      display:flex;\n",
              "      flex-wrap:wrap;\n",
              "      gap: 12px;\n",
              "    }\n",
              "\n",
              "    .colab-df-convert {\n",
              "      background-color: #E8F0FE;\n",
              "      border: none;\n",
              "      border-radius: 50%;\n",
              "      cursor: pointer;\n",
              "      display: none;\n",
              "      fill: #1967D2;\n",
              "      height: 32px;\n",
              "      padding: 0 0 0 0;\n",
              "      width: 32px;\n",
              "    }\n",
              "\n",
              "    .colab-df-convert:hover {\n",
              "      background-color: #E2EBFA;\n",
              "      box-shadow: 0px 1px 2px rgba(60, 64, 67, 0.3), 0px 1px 3px 1px rgba(60, 64, 67, 0.15);\n",
              "      fill: #174EA6;\n",
              "    }\n",
              "\n",
              "    [theme=dark] .colab-df-convert {\n",
              "      background-color: #3B4455;\n",
              "      fill: #D2E3FC;\n",
              "    }\n",
              "\n",
              "    [theme=dark] .colab-df-convert:hover {\n",
              "      background-color: #434B5C;\n",
              "      box-shadow: 0px 1px 3px 1px rgba(0, 0, 0, 0.15);\n",
              "      filter: drop-shadow(0px 1px 2px rgba(0, 0, 0, 0.3));\n",
              "      fill: #FFFFFF;\n",
              "    }\n",
              "  </style>\n",
              "\n",
              "      <script>\n",
              "        const buttonEl =\n",
              "          document.querySelector('#df-195c5c91-0335-43f0-8f39-0c3e2badd84f button.colab-df-convert');\n",
              "        buttonEl.style.display =\n",
              "          google.colab.kernel.accessAllowed ? 'block' : 'none';\n",
              "\n",
              "        async function convertToInteractive(key) {\n",
              "          const element = document.querySelector('#df-195c5c91-0335-43f0-8f39-0c3e2badd84f');\n",
              "          const dataTable =\n",
              "            await google.colab.kernel.invokeFunction('convertToInteractive',\n",
              "                                                     [key], {});\n",
              "          if (!dataTable) return;\n",
              "\n",
              "          const docLinkHtml = 'Like what you see? Visit the ' +\n",
              "            '<a target=\"_blank\" href=https://colab.research.google.com/notebooks/data_table.ipynb>data table notebook</a>'\n",
              "            + ' to learn more about interactive tables.';\n",
              "          element.innerHTML = '';\n",
              "          dataTable['output_type'] = 'display_data';\n",
              "          await google.colab.output.renderOutput(dataTable, element);\n",
              "          const docLink = document.createElement('div');\n",
              "          docLink.innerHTML = docLinkHtml;\n",
              "          element.appendChild(docLink);\n",
              "        }\n",
              "      </script>\n",
              "    </div>\n",
              "  </div>\n"
            ]
          },
          "metadata": {},
          "execution_count": 46
        }
      ],
      "source": [
        "all_models_results"
      ]
    },
    {
      "cell_type": "markdown",
      "id": "f944bb91",
      "metadata": {
        "id": "f944bb91",
        "papermill": {
          "duration": 0.031423,
          "end_time": "2023-08-13T16:19:41.154181",
          "exception": false,
          "start_time": "2023-08-13T16:19:41.122758",
          "status": "completed"
        },
        "tags": []
      },
      "source": [
        "#Plotting F1 scores,accuracy,recall and precision for a visual comparison"
      ]
    },
    {
      "cell_type": "code",
      "execution_count": 47,
      "id": "d847740c",
      "metadata": {
        "execution": {
          "iopub.execute_input": "2023-08-13T16:19:41.219771Z",
          "iopub.status.busy": "2023-08-13T16:19:41.219348Z",
          "iopub.status.idle": "2023-08-13T16:19:41.833090Z",
          "shell.execute_reply": "2023-08-13T16:19:41.831841Z"
        },
        "id": "d847740c",
        "outputId": "060f7c41-28a0-417a-962a-59c452fb8d7f",
        "papermill": {
          "duration": 0.650211,
          "end_time": "2023-08-13T16:19:41.835870",
          "exception": false,
          "start_time": "2023-08-13T16:19:41.185659",
          "status": "completed"
        },
        "tags": [],
        "colab": {
          "base_uri": "https://localhost:8080/",
          "height": 813
        }
      },
      "outputs": [
        {
          "output_type": "execute_result",
          "data": {
            "text/plain": [
              "<matplotlib.legend.Legend at 0x7841ab3d6b30>"
            ]
          },
          "metadata": {},
          "execution_count": 47
        },
        {
          "output_type": "display_data",
          "data": {
            "text/plain": [
              "<Figure size 1000x700 with 1 Axes>"
            ],
            "image/png": "[encoded data removed]"
          },
          "metadata": {}
        }
      ],
      "source": [
        "all_models_results.plot(kind=\"bar\",figsize=(10,7)).legend(bbox_to_anchor=(1.0,1.0))"
      ]
    },
    {
      "cell_type": "markdown",
      "id": "dcb1e4fc",
      "metadata": {
        "id": "dcb1e4fc",
        "papermill": {
          "duration": 0.032373,
          "end_time": "2023-08-13T16:19:41.902461",
          "exception": false,
          "start_time": "2023-08-13T16:19:41.870088",
          "status": "completed"
        },
        "tags": []
      },
      "source": [
        "Sorting our models results by accuracy scores to decide which is the best model"
      ]
    },
    {
      "cell_type": "code",
      "execution_count": 48,
      "id": "d32ea518",
      "metadata": {
        "execution": {
          "iopub.execute_input": "2023-08-13T16:19:41.970227Z",
          "iopub.status.busy": "2023-08-13T16:19:41.969822Z",
          "iopub.status.idle": "2023-08-13T16:19:42.333667Z",
          "shell.execute_reply": "2023-08-13T16:19:42.332243Z"
        },
        "id": "d32ea518",
        "outputId": "206a5ed2-d7a0-49c4-f9ea-5afece58cb06",
        "papermill": {
          "duration": 0.401179,
          "end_time": "2023-08-13T16:19:42.336348",
          "exception": false,
          "start_time": "2023-08-13T16:19:41.935169",
          "status": "completed"
        },
        "tags": [],
        "colab": {
          "base_uri": "https://localhost:8080/",
          "height": 813
        }
      },
      "outputs": [
        {
          "output_type": "execute_result",
          "data": {
            "text/plain": [
              "<Axes: >"
            ]
          },
          "metadata": {},
          "execution_count": 48
        },
        {
          "output_type": "display_data",
          "data": {
            "text/plain": [
              "<Figure size 1000x700 with 1 Axes>"
            ],
            "image/png": "[encoded data removed]"
          },
          "metadata": {}
        }
      ],
      "source": [
        "all_models_results.sort_values(\"accuracy\",ascending=False)[\"accuracy\"].plot(kind=\"bar\",figsize=(10,7))"
      ]
    },
    {
      "cell_type": "markdown",
      "id": "8c44f1fe",
      "metadata": {
        "id": "8c44f1fe",
        "papermill": {
          "duration": 0.033059,
          "end_time": "2023-08-13T16:19:42.405090",
          "exception": false,
          "start_time": "2023-08-13T16:19:42.372031",
          "status": "completed"
        },
        "tags": []
      },
      "source": [
        "#making a confusion matrix for the best performing model(Logistic Regression)"
      ]
    },
    {
      "cell_type": "code",
      "execution_count": 49,
      "id": "164eafe9",
      "metadata": {
        "execution": {
          "iopub.execute_input": "2023-08-13T16:19:42.474312Z",
          "iopub.status.busy": "2023-08-13T16:19:42.473236Z",
          "iopub.status.idle": "2023-08-13T16:19:42.922005Z",
          "shell.execute_reply": "2023-08-13T16:19:42.920862Z"
        },
        "id": "164eafe9",
        "outputId": "661bdb27-bba4-450b-fc9a-60f42391371d",
        "papermill": {
          "duration": 0.486421,
          "end_time": "2023-08-13T16:19:42.924921",
          "exception": false,
          "start_time": "2023-08-13T16:19:42.438500",
          "status": "completed"
        },
        "tags": [],
        "colab": {
          "base_uri": "https://localhost:8080/",
          "height": 807
        }
      },
      "outputs": [
        {
          "output_type": "display_data",
          "data": {
            "text/plain": [
              "<Figure size 1000x1000 with 2 Axes>"
            ],
            "image/png": "[encoded data removed]"
          },
          "metadata": {}
        }
      ],
      "source": [
        "import numpy as np\n",
        "from sklearn.metrics import confusion_matrix\n",
        "import matplotlib.pyplot as plt\n",
        "import itertools\n",
        "cm=confusion_matrix(val_labels,model_6_preds)\n",
        "n_classes=cm.shape[0]\n",
        "\n",
        "fig,ax=plt.subplots(figsize=(10, 10))\n",
        "cax=ax.matshow(cm,cmap=plt.cm.Blues)\n",
        "fig.colorbar(cax)\n",
        "labels=np.array([\"Negative review\",\"Positive review\"])\n",
        "\n",
        "ax.set(title=\"Confusion Matrix for Logistic Regression\",xlabel=\"Predicted label\",ylabel=\"True label\",xticks=np.arange(n_classes),yticks=np.arange(n_classes), xticklabels=labels, yticklabels=labels)\n",
        "ax.xaxis.set_label_position(\"bottom\")\n",
        "ax.xaxis.tick_bottom()\n",
        "\n",
        "threshold=(cm.max()+cm.min())/2.\n",
        "\n",
        "for i, j in itertools.product(range(cm.shape[0]), range(cm.shape[1])):\n",
        "    plt.text(j,i,f\"{cm[i,j]}\",horizontalalignment=\"center\",color=\"white\" if cm[i,j]>threshold else \"black\",size=15)"
      ]
    }
  ],
  "metadata": {
    "kernelspec": {
      "display_name": "Python 3",
      "language": "python",
      "name": "python3"
    },
    "language_info": {
      "codemirror_mode": {
        "name": "ipython",
        "version": 3
      },
      "file_extension": ".py",
      "mimetype": "text/x-python",
      "name": "python",
      "nbconvert_exporter": "python",
      "pygments_lexer": "ipython3",
      "version": "3.10.10"
    },
    "papermill": {
      "default_parameters": {},
      "duration": 607.661813,
      "end_time": "2023-08-13T16:19:47.981969",
      "environment_variables": {},
      "exception": null,
      "input_path": "__notebook__.ipynb",
      "output_path": "__notebook__.ipynb",
      "parameters": {},
      "start_time": "2023-08-13T16:09:40.320156",
      "version": "2.4.0"
    },
    "colab": {
      "provenance": []
    }
  },
  "nbformat": 4,
  "nbformat_minor": 5
}